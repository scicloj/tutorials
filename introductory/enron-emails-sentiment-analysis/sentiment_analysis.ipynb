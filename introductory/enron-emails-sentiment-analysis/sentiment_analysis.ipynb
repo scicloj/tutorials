{
 "cells": [
  {
   "cell_type": "markdown",
   "metadata": {},
   "source": [
    "# Time-Series Sentiment Analysis of Enron Email Dataset"
   ]
  },
  {
   "cell_type": "markdown",
   "metadata": {},
   "source": [
    "## Goals\n",
    "\n",
    "By the end of this tutorial you will know how to:\n",
    "* Use the VADER sentiment analysis model\n",
    "* Use transducers to transform data in compact form\n",
    "* Load a local dependency \n",
    "* Chart data using the [oz](https://github.com/metasoarous/oz) visualization library (base don vega-lite)."
   ]
  },
  {
   "cell_type": "markdown",
   "metadata": {},
   "source": [
    "## Hypothesis/Question\n",
    "\n",
    "Before we get going, let's think about what question we might ask of the enron dataset. For those who may be unfamiliar, Enron was a once-profitable and lauded company that declared bankrupty on December 3, 2001, one year after claiming revenues of $101 billion, as a result of widespread accounting fraud. It has subsequently become an example, as Wikipedia states, of \"willful corporate fraud and corruption.\" (see [https://en.wikipedia.org/wiki/Enron](https://en.wikipedia.org/wiki/Enron))\n",
    "\n",
    "To delve into this dataset, let's take on the identity of a historian who is just beginning their research in to Enron. After acquiring the dataset, they want to do some exploration to guide their research. An initial question that comes to mind is whether or not the general sentiment of the emails sent by enron employees spiked or bottomed-out at key points. If a historian could identify these points in time, it might help the historian construct an understanding of key points in the narrative they hope to build around Enron's history.\n",
    "`\n",
    "So let's take that as our question: did Enron email sentiment peak or bottom-out at key points as the company moved toward its moment of collapse at the end of 2001?"
   ]
  },
  {
   "cell_type": "markdown",
   "metadata": {},
   "source": [
    "## Get the Data"
   ]
  },
  {
   "cell_type": "markdown",
   "metadata": {},
   "source": [
    "This tutorial is based on analysis of a portion of the [Enron Email Dataset](https://www.cs.cmu.edu/~enron/). There's a script to pull this data in the `Makefile` located in this directory. You should be able to pull the data and place it in the location assumed by this tutorial simply by issuing the following command **in the directory in which this tutorial file is located:** `make get-data`. \n",
    "\n",
    "> Note: This download will take a while. The enron dataset is upwards of 400 MB. So be patient at the start here."
   ]
  },
  {
   "cell_type": "markdown",
   "metadata": {},
   "source": [
    "## Prepare the Notebook "
   ]
  },
  {
   "cell_type": "markdown",
   "metadata": {},
   "source": [
    "To get started, we need to prepare the clojure notebook context. Because we are using the clojupyter kernel, we have access to core clojure methods, but we will also be using a set of other dependencies. We load these dependencies using `clojupyter.misc.helper/add-dependences`."
   ]
  },
  {
   "cell_type": "code",
   "execution_count": 1,
   "metadata": {},
   "outputs": [
    {
     "data": {
      "text/plain": [
       ":done"
      ]
     },
     "execution_count": 1,
     "metadata": {},
     "output_type": "execute_result"
    }
   ],
   "source": [
    ";; Enable stack traces\n",
    ";; (clojupyter.misc.stacktrace/set-print-stacktraces! true)\n",
    "(require '[clojupyter.misc.helper :as helper])\n",
    "\n",
    "(->> '[[clojure-opennlp \"0.5.0\"]\n",
    "       [kixi/stats \"0.5.0\"]\n",
    "       [io.forward/clojure-mail \"1.0.7\"]\n",
    "       [clojure2d \"1.1.0\"]\n",
    "       [metasoarous/oz \"1.5.0\"]\n",
    "       [clj-time \"0.15.0\"]\n",
    "       [net.cgrand/xforms \"0.18.2\"]]\n",
    "     (map helper/add-dependencies)\n",
    "     doall)\n",
    "\n",
    ":done"
   ]
  },
  {
   "cell_type": "markdown",
   "metadata": {},
   "source": [
    "The VADER repository that we are going to use ([nunoachenriques/vader-sentiment-analysis](https://github.com/nunoachenriques/vader-sentiment-analysis)) is as of this writing not available through clojure's repository hub (maven). Therefore, we need to load it locally. \n",
    "\n",
    "To do this, the basic steps are as follows:\n",
    "1. Acquire the JAR package;\n",
    "2. Create a local directory off the root of the project called `maven-repository` and place the JAR package in that directory;\n",
    "3. Add the JAR in the local repository directory to mvn locally:\n",
    "    ```bash \n",
    "   > mvn install:install-file -Dfile=./maven_repository/vader-sentiment-analysis-2.0.1.jar -Durl=file:repo -DgroupId=local -DartifactId=vader -Dversion=2.0.1 -Dpackaging=jar\n",
    "    ```\n",
    "\n",
    "Once these steps are completed, we can then load the dependency using the `cemerick.pomegrnatae/add-depenceis` method, as follows. "
   ]
  },
  {
   "cell_type": "markdown",
   "metadata": {},
   "source": [
    "> Note that the package name referenced, below `local/vader`, corresponds with the `groupID` and `artifactId` in the `mvn` command we used to add the JAR to maven above."
   ]
  },
  {
   "cell_type": "code",
   "execution_count": 2,
   "metadata": {},
   "outputs": [
    {
     "data": {
      "text/plain": [
       "{[local/vader \"2.0.1\"] nil}"
      ]
     },
     "execution_count": 2,
     "metadata": {},
     "output_type": "execute_result"
    }
   ],
   "source": [
    ";; Load VADER as local repository\n",
    ";; The vader repo binary must be installed in the dir ./maven-repository as specified below\n",
    "(do\n",
    "    (use '[cemerick.pomegranate :only (add-dependencies)])\n",
    "    (add-dependencies \n",
    "        :coordinates '[[local/vader \"2.0.1\"]] \n",
    "        :repositories {\"local/vader\" (str (.toURI (java.io.File. \"./maven_repository\")))}))"
   ]
  },
  {
   "cell_type": "markdown",
   "metadata": {},
   "source": [
    "## Declaring a namespace"
   ]
  },
  {
   "cell_type": "markdown",
   "metadata": {},
   "source": [
    "All methods in clojure programs exist in a namespace. Each namespace also includes dependency declarations. The same is true when using Clojure in a notebook context.\n",
    "\n",
    "The default namespace for clojure in a notebook context is `user`. We can see that that is the case by inspecting the current namespace like so:"
   ]
  },
  {
   "cell_type": "code",
   "execution_count": 3,
   "metadata": {},
   "outputs": [
    {
     "data": {
      "text/plain": [
       "#namespace[user]"
      ]
     },
     "execution_count": 3,
     "metadata": {},
     "output_type": "execute_result"
    }
   ],
   "source": [
    "*ns*"
   ]
  },
  {
   "cell_type": "markdown",
   "metadata": {},
   "source": [
    "Although we could simply operate in this user namespace, it's better practice to define our namespace specifically. [**Is it really??**] So let's do that:"
   ]
  },
  {
   "cell_type": "code",
   "execution_count": 4,
   "metadata": {},
   "outputs": [
    {
     "name": "stderr",
     "output_type": "stream",
     "text": [
      "WARNING: boolean? already refers to: #'clojure.core/boolean? in namespace: medley.core, being replaced by: #'medley.core/boolean?\n"
     ]
    },
    {
     "data": {
      "text/plain": [
       "#namespace[drafts.sentiment_analysis]"
      ]
     },
     "execution_count": 4,
     "metadata": {},
     "output_type": "execute_result"
    }
   ],
   "source": [
    "(ns drafts.sentiment_analysis\n",
    "    (:import [net.nunoachenriques.vader SentimentAnalysis]\n",
    "             [net.nunoachenriques.vader.lexicon English]\n",
    "             [net.nunoachenriques.vader.text TokenizerEnglish]\n",
    "             [java.io FileInputStream File]\n",
    "             [javax.mail Session]\n",
    "             [javax.mail.internet MimeMessage]\n",
    "             [java.util Properties])\n",
    "    (:require [kixi.stats.core :as stats]\n",
    "              [clojure-mail.core :as mail]\n",
    "              [clojure-mail.message :refer (read-message)]\n",
    "              [clj-time.core :as t]\n",
    "              [clj-time.coerce :as c]\n",
    "              [net.cgrand.xforms :as x]\n",
    "              [oz.notebook.clojupyter :as oz])\n",
    "    (:use [clojure.repl :only (doc source)]\n",
    "          [clojure.pprint :only (pprint print-table)]\n",
    "          [opennlp.nlp :only (make-sentence-detector)]))\n",
    "\n",
    "*ns*"
   ]
  },
  {
   "cell_type": "code",
   "execution_count": 5,
   "metadata": {},
   "outputs": [
    {
     "data": {
      "text/plain": [
       "true"
      ]
     },
     "execution_count": 5,
     "metadata": {},
     "output_type": "execute_result"
    }
   ],
   "source": [
    "(set! *warn-on-reflection* true)"
   ]
  },
  {
   "cell_type": "markdown",
   "metadata": {},
   "source": [
    "## Analyzing Sentiment w/ Vader"
   ]
  },
  {
   "cell_type": "markdown",
   "metadata": {},
   "source": [
    "Now that we have a namespace declared we can begin our exploration using VADER sentiment analysis.\n",
    "\n",
    "What is VADER? Vader is a sentiment analysis tool optimized for analyzing informal language, in particular the type of language that appears in social media and other micro-blogging tools. If you'd like to learn more about this model, please refer to the paper [\"VADER: A Parsimonious Rule-based Model for Sentiment Analysis of Social Media Text\"](http://comp.social.gatech.edu/papers/icwsm14.vader.hutto.pdf) by C.J. Hutton & Eric Gilbert.\n",
    "\n",
    "The [VADER package we are using](https://github.com/nunoachenriques/vader-sentiment-analysis) here is an implementation of VADER in Java. In order to use it, we first define a language and a tokenizer to match and then instantiate a VADER sentiment analysis class."
   ]
  },
  {
   "cell_type": "code",
   "execution_count": 6,
   "metadata": {},
   "outputs": [
    {
     "data": {
      "text/plain": [
       "#'drafts.sentiment_analysis/tokenizer"
      ]
     },
     "execution_count": 6,
     "metadata": {},
     "output_type": "execute_result"
    }
   ],
   "source": [
    "(def language (English.))\n",
    "(def tokenizer (TokenizerEnglish.))"
   ]
  },
  {
   "cell_type": "code",
   "execution_count": 7,
   "metadata": {
    "lines_to_next_cell": 2
   },
   "outputs": [
    {
     "data": {
      "text/plain": [
       "#'drafts.sentiment_analysis/sa"
      ]
     },
     "execution_count": 7,
     "metadata": {},
     "output_type": "execute_result"
    }
   ],
   "source": [
    "(def ^SentimentAnalysis sa (SentimentAnalysis. language tokenizer))"
   ]
  },
  {
   "cell_type": "markdown",
   "metadata": {},
   "source": [
    "> Note: We are defining the type of the `sa` variable as an instance of the `SentimentAnalysis` class. This is useful because... **[TODO: Fill in reason]**]\n",
    "\n",
    "Now that we have the VADER class, let' use it:"
   ]
  },
  {
   "cell_type": "code",
   "execution_count": 8,
   "metadata": {},
   "outputs": [
    {
     "data": {
      "text/plain": [
       "{\"negative\" 0.0, \"neutral\" 0.261, \"positive\" 0.739, \"compound\" 0.8582}"
      ]
     },
     "execution_count": 8,
     "metadata": {},
     "output_type": "execute_result"
    }
   ],
   "source": [
    "(. sa (getSentimentAnalysis \"Yay!! You are the best!\"))"
   ]
  },
  {
   "cell_type": "markdown",
   "metadata": {},
   "source": [
    "As you can see, we get four numbers back. Each of these numbers is in the range `-1 > x < 1`. They express the degree of negative, netural, and positive sentiment independently, while the \"compound\" number gives a summary of all three measures rolled up into one.\n",
    "\n",
    "That's all fine and good. Now to get a sense of what makes VADER unique, look at what happens when we analyze the sentiment of `:)` and `:(`."
   ]
  },
  {
   "cell_type": "code",
   "execution_count": 9,
   "metadata": {},
   "outputs": [
    {
     "data": {
      "text/plain": [
       "{\"negative\" 0.0, \"neutral\" 0.0, \"positive\" 1.0, \"compound\" 0.4588}"
      ]
     },
     "execution_count": 9,
     "metadata": {},
     "output_type": "execute_result"
    }
   ],
   "source": [
    "(. sa (getSentimentAnalysis \":)\"))"
   ]
  },
  {
   "cell_type": "code",
   "execution_count": 10,
   "metadata": {},
   "outputs": [
    {
     "data": {
      "text/plain": [
       "{\"negative\" 1.0, \"neutral\" 0.0, \"positive\" 0.0, \"compound\" -0.4404}"
      ]
     },
     "execution_count": 10,
     "metadata": {},
     "output_type": "execute_result"
    }
   ],
   "source": [
    "(. sa (getSentimentAnalysis \":(\"))"
   ]
  },
  {
   "cell_type": "markdown",
   "metadata": {},
   "source": [
    "## Reading Emails\n"
   ]
  },
  {
   "cell_type": "code",
   "execution_count": 11,
   "metadata": {
    "lines_to_next_cell": 2
   },
   "outputs": [
    {
     "data": {
      "text/plain": [
       "#'drafts.sentiment_analysis/maildir-path"
      ]
     },
     "execution_count": 11,
     "metadata": {},
     "output_type": "execute_result"
    }
   ],
   "source": [
    "(def maildir-path \"data/enron_mail/maildir\")"
   ]
  },
  {
   "cell_type": "code",
   "execution_count": 12,
   "metadata": {},
   "outputs": [
    {
     "name": "stdout",
     "output_type": "stream",
     "text": [
      "{:cc (),\n",
      " :bcc (),\n",
      " :headers\n",
      " [{\"Message-ID\" \"<33491127.1075857594966.JavaMail.evans@thyme>\"}\n",
      "  {\"Date\" \"Tue, 21 Nov 2000 13:16:00 -0800 (PST)\"}\n",
      "  {\"From\" \"john.arnold@enron.com\"}\n",
      "  {\"To\" \"slafontaine@globalp.com\"}\n",
      "  {\"Subject\" \"re:mkts\"}\n",
      "  {\"Mime-Version\" \"1.0\"}\n",
      "  {\"Content-Type\" \"text/plain; charset=us-ascii\"}\n",
      "  {\"Content-Transfer-Encoding\" \"7bit\"}\n",
      "  {\"X-From\" \"John Arnold\"}\n",
      "  {\"X-To\" \"slafontaine@globalp.com @ ENRON\"}\n",
      "  {\"X-cc\" \"\"}\n",
      "  {\"X-bcc\" \"\"}\n",
      "  {\"X-Folder\" \"\\\\John_Arnold_Dec2000\\\\Notes Folders\\\\'sent mail\"}\n",
      "  {\"X-Origin\" \"Arnold-J\"}\n",
      "  {\"X-FileName\" \"Jarnold.nsf\"}],\n",
      " :date-sent #inst \"2000-11-21T21:16:00.000-00:00\",\n",
      " :date-received nil,\n",
      " :from ({:address \"john.arnold@enron.com\", :name nil}),\n",
      " :id \"<33491127.1075857594966.JavaMail.evans@thyme>\",\n",
      " :sender nil,\n",
      " :content-type \"text/plain; charset=us-ascii\",\n",
      " :multipart? false,\n",
      " :body\n",
      " {:content-type \"text/plain; charset=us-ascii\",\n",
      "  :body\n",
      "  \"Hey:\\nHaven't had the best of months.  Like you had some good positions but others \\nwiped out everything.  Unbelievable how the whole curve moves as one for 6 \\nmonths and then separates completely.  The z/f/g and f/g/h flies are \\namazing.  Something definitely out of whack.  Hard to believe cash in Z will \\nbe cantango to F and front spread, F/G, will be 40.  Spreads definitely \\nimplying we will see some $10+ prints on daily cash at the hub this winter.  \\nHell, already seeing it in the West.  The system is just broken there.  \\ninteresting to see if it is a sign of what can come in the east later.  \\ndefinitely more flexibility in the east so the blowouts won't occur until \\nlatter part of the winter.   the inelasticity of demand continues to be \\nunbelievable.  who would have thunk it.   Gas can be 3 times what it was one \\nyear ago and not a significant loss of demand.   \\nmarket definitely trained to buy the dips at this point.  continues to be a \\nvery trending market.  most days finish on the intraday high or low.  \\nPira told the boys to hedge jv and cal 2 and the impact has been \\nsignificant.  i quote bids on term strips 5 times a day.   understand they \\nare changing their view somewhat tomorrow.  wait and see if it relieves some \\nback pressure.  very surprised at lack of spec long interest in jv at 4.5 \\nconsidering the scenario that's being painted.   \\n\\n\\n\\n\\nslafontaine@globalp.com on 11/21/2000 01:06:40 PM\\nTo: jarnold@enron.com\\ncc:  \\nSubject: re:mkts\\n\\n\\n\\njohnny, hope things re treating you well. this month has been frustrating for\\nme-generally caught many mkt moves but had 2 postions that nearly cancelled \\nall\\nthe rest. im finding it really really hard to assess risk now in oil and gas\\ntherefore im taking a step back esp in front of holidays and year end. was \\nlong\\nmar gas vs backs which worked great but i took profits waayyy too early\\n  flat px i think is pretty clear-if weather stays normal to below we keep a\\nflaoor at 5.80-6.00 bucks for another 40 days at least. if we have sustained\\naboves we drop like a rock in part due to back en d pressure.\\n\\n   but spreads-what the hell do we do with em?????????? was just saying to \\nmark\\nsilverman there is a huge opportunity here staring us in the face but i hve no\\nidea what it is-i have equal arguements for why sprds shud fall or move out. \\nany\\ngreat insites? hope all is well and enjoy the long weeknd-we both deserve it.\\n   guess the curve will stop blowing out when/if we see the back end selling \\ndry\\nup??\\n\\n\\n\\n\"},\n",
      " :subject \"re:mkts\",\n",
      " :to ({:address \"slafontaine@globalp.com\", :name nil})}\n"
     ]
    },
    {
     "data": {
      "text/plain": [
       "nil"
      ]
     },
     "execution_count": 12,
     "metadata": {},
     "output_type": "execute_result"
    }
   ],
   "source": [
    "(def sample-msg \n",
    "    (-> \"data/enron_mail/maildir/arnold-j/_sent_mail/36.\"\n",
    "        (clojure.java.io/as-file)\n",
    "        (mail/file->message)\n",
    "        (read-message)))\n",
    "\n",
    "(pprint sample-msg)"
   ]
  },
  {
   "cell_type": "markdown",
   "metadata": {},
   "source": [
    "> Note: If you get an error at this stage something like `data/enron_mail/maildir/arnold-j/_sent_mail/36. (No such file or directory)`, it's probably because you didn't get the data as described [here](http://localhost:8888/notebooks/sentiment_analysis.ipynb#Get-the-Data)"
   ]
  },
  {
   "cell_type": "markdown",
   "metadata": {},
   "source": [
    "## Read All Messages"
   ]
  },
  {
   "cell_type": "markdown",
   "metadata": {},
   "source": [
    "Now that we know how to use VADER, let's build our data. The enron messages are stored in individual files, so we'll need to pull them in one a a time. \n",
    "\n",
    "In clojure, we can do this in a very concise and compact manner by taking advantage of function composition and a more advanced tool called \"transducers\" -- which stands for transformer-reducer. If you'd like to read up on transducers before you proceed, go [here]() and [here]()."
   ]
  },
  {
   "cell_type": "markdown",
   "metadata": {},
   "source": [
    "Getting started, the first thing we'll need is a way to grab all the files that we want from the dataset. Let's define a function that does this for us. This function takes a starting path and a regular expression (`re`). It pulls all the files that are children of that starting path and filters them using the regular expression. Nice! "
   ]
  },
  {
   "cell_type": "code",
   "execution_count": 13,
   "metadata": {},
   "outputs": [
    {
     "data": {
      "text/plain": [
       "#'drafts.sentiment_analysis/get-files"
      ]
     },
     "execution_count": 13,
     "metadata": {},
     "output_type": "execute_result"
    }
   ],
   "source": [
    "(defn get-files [start-path re]\n",
    "    (->> start-path\n",
    "         (clojure.java.io/as-file)\n",
    "         (file-seq)\n",
    "         (map #(.getPath ^File %))\n",
    "         (filter #(re-matches re %))))"
   ]
  },
  {
   "cell_type": "markdown",
   "metadata": {},
   "source": [
    "Now, defining a regex blob to match only sent mail files, we use this function to gather all the paths for the files that interest us."
   ]
  },
  {
   "cell_type": "code",
   "execution_count": 14,
   "metadata": {},
   "outputs": [
    {
     "data": {
      "text/plain": [
       "#'drafts.sentiment_analysis/sent-msg-paths"
      ]
     },
     "execution_count": 14,
     "metadata": {},
     "output_type": "execute_result"
    }
   ],
   "source": [
    "(def sent-mail-re #\"data\\/enron_mail\\/maildir\\/.*\\/_sent_mail\\/.*\")\n",
    "(def sent-msg-paths (get-files maildir-path sent-mail-re))"
   ]
  },
  {
   "cell_type": "markdown",
   "metadata": {},
   "source": [
    "Next, once we have the files, we need to convert them into message data. Again, we can write a simple function to do this:"
   ]
  },
  {
   "cell_type": "code",
   "execution_count": 15,
   "metadata": {},
   "outputs": [
    {
     "data": {
      "text/plain": [
       "#'drafts.sentiment_analysis/raw-message->message-data"
      ]
     },
     "execution_count": 15,
     "metadata": {},
     "output_type": "execute_result"
    }
   ],
   "source": [
    "(defn raw-message->message-data [m]\n",
    "    {:to    (-> (get m :to) (first) (get :address))\n",
    "     :from  (-> (get m :from) (first) (get :address))\n",
    "     :date-sent (get m :date-sent)\n",
    "     :date-received (get m :date-received)\n",
    "     :subject (get m :subject)\n",
    "     :body  (get-in m [:body :body])})"
   ]
  },
  {
   "cell_type": "markdown",
   "metadata": {},
   "source": [
    "Now that we have some crucial functions defined, we can now combine them to do the transformation we need all at once. It's at this point that we leverage the power of clojure's utilities and concepts as a functional language.\n",
    "\n",
    "In clojure, we can declare the transformations that we want in the abstract before actually making them. This is different than when we use a language like Python because with Python we tend to make those transformations one-at-a-time, imperatively.\n",
    "\n",
    "So how does this wwrk? To declare these transformative proceses we use what are called \"transforms\" or, more fancily, \"transducers.\" A transducer is just a function that can transform one reducing function to another. Most sequence functions clojure will return a transducer if the collection upon which the function would normally act is omitted. \n",
    "\n",
    "So:"
   ]
  },
  {
   "cell_type": "code",
   "execution_count": 16,
   "metadata": {},
   "outputs": [
    {
     "name": "stdout",
     "output_type": "stream",
     "text": [
      "(\"1\" \"2\" \"3\")\n",
      "#function[clojure.core/map/fn--5847]\n"
     ]
    },
    {
     "data": {
      "text/plain": [
       "nil"
      ]
     },
     "execution_count": 16,
     "metadata": {},
     "output_type": "execute_result"
    }
   ],
   "source": [
    "(pprint (map str [1 2 3])) ;; returns [\"1\" \"2\" \"3\"]\n",
    "(pprint (map str))         ;; returns a transducer"
   ]
  },
  {
   "cell_type": "markdown",
   "metadata": {},
   "source": [
    "Using `map` in this way along with the `comp` function, which composes a functions together, we can create a transformation that will read the message files using the functions we've declared and a few helper functions imported from the `clojure-mail` package:"
   ]
  },
  {
   "cell_type": "code",
   "execution_count": 17,
   "metadata": {},
   "outputs": [
    {
     "data": {
      "text/plain": [
       "#'drafts.sentiment_analysis/xform-msg-files"
      ]
     },
     "execution_count": 17,
     "metadata": {},
     "output_type": "execute_result"
    }
   ],
   "source": [
    "(def xform-msg-files\n",
    "    (comp (map mail/file->message)\n",
    "          (map read-message)\n",
    "          (map raw-message->message-data)))"
   ]
  },
  {
   "cell_type": "markdown",
   "metadata": {},
   "source": [
    "As you can see, these transformation stacks are incredibly easy to read. What does our `xform-msg-files` do? It will eventually receive a collection and pass that collection through the series of mapping statements. So what we have here is a clearly defined pipeline transformation that does the following:\n",
    "\n",
    "1. Load a MIME message from a file (via clojure-mail);\n",
    "2. Convert the MIME message to a data structure (via clojur-mail);\n",
    "3. Build our own more refined data structure (via raw-message->message-data).\n",
    "\n",
    "Now that we've defined our transformtion, let's use it! \n",
    "\n",
    "To do so, we can take advatage of the fact that the `sequence` method has an arity that accepts a transducer as its first argument along with a collection as its second argument:"
   ]
  },
  {
   "cell_type": "code",
   "execution_count": 18,
   "metadata": {},
   "outputs": [
    {
     "data": {
      "text/plain": [
       "#'drafts.sentiment_analysis/msgs"
      ]
     },
     "execution_count": 18,
     "metadata": {},
     "output_type": "execute_result"
    }
   ],
   "source": [
    "(def msgs (sequence xform-msg-files sent-msg-paths))"
   ]
  },
  {
   "cell_type": "code",
   "execution_count": 19,
   "metadata": {},
   "outputs": [
    {
     "data": {
      "text/plain": [
       "30237"
      ]
     },
     "execution_count": 19,
     "metadata": {},
     "output_type": "execute_result"
    }
   ],
   "source": [
    "(count msgs)"
   ]
  },
  {
   "cell_type": "code",
   "execution_count": 20,
   "metadata": {},
   "outputs": [
    {
     "name": "stdout",
     "output_type": "stream",
     "text": [
      "({:to \"slafontaine@globalp.com\",\n",
      "  :from \"john.arnold@enron.com\",\n",
      "  :date-sent #inst \"2000-11-21T21:16:00.000-00:00\",\n",
      "  :date-received nil,\n",
      "  :subject \"re:mkts\",\n",
      "  :body\n",
      "  \"Hey:\\nHaven't had the best of months.  Like you had some good positions but others \\nwiped out everything.  Unbelievable how the whole curve moves as one for 6 \\nmonths and then separates completely.  The z/f/g and f/g/h flies are \\namazing.  Something definitely out of whack.  Hard to believe cash in Z will \\nbe cantango to F and front spread, F/G, will be 40.  Spreads definitely \\nimplying we will see some $10+ prints on daily cash at the hub this winter.  \\nHell, already seeing it in the West.  The system is just broken there.  \\ninteresting to see if it is a sign of what can come in the east later.  \\ndefinitely more flexibility in the east so the blowouts won't occur until \\nlatter part of the winter.   the inelasticity of demand continues to be \\nunbelievable.  who would have thunk it.   Gas can be 3 times what it was one \\nyear ago and not a significant loss of demand.   \\nmarket definitely trained to buy the dips at this point.  continues to be a \\nvery trending market.  most days finish on the intraday high or low.  \\nPira told the boys to hedge jv and cal 2 and the impact has been \\nsignificant.  i quote bids on term strips 5 times a day.   understand they \\nare changing their view somewhat tomorrow.  wait and see if it relieves some \\nback pressure.  very surprised at lack of spec long interest in jv at 4.5 \\nconsidering the scenario that's being painted.   \\n\\n\\n\\n\\nslafontaine@globalp.com on 11/21/2000 01:06:40 PM\\nTo: jarnold@enron.com\\ncc:  \\nSubject: re:mkts\\n\\n\\n\\njohnny, hope things re treating you well. this month has been frustrating for\\nme-generally caught many mkt moves but had 2 postions that nearly cancelled \\nall\\nthe rest. im finding it really really hard to assess risk now in oil and gas\\ntherefore im taking a step back esp in front of holidays and year end. was \\nlong\\nmar gas vs backs which worked great but i took profits waayyy too early\\n  flat px i think is pretty clear-if weather stays normal to below we keep a\\nflaoor at 5.80-6.00 bucks for another 40 days at least. if we have sustained\\naboves we drop like a rock in part due to back en d pressure.\\n\\n   but spreads-what the hell do we do with em?????????? was just saying to \\nmark\\nsilverman there is a huge opportunity here staring us in the face but i hve no\\nidea what it is-i have equal arguements for why sprds shud fall or move out. \\nany\\ngreat insites? hope all is well and enjoy the long weeknd-we both deserve it.\\n   guess the curve will stop blowing out when/if we see the back end selling \\ndry\\nup??\\n\\n\\n\\n\"})\n"
     ]
    },
    {
     "data": {
      "text/plain": [
       "nil"
      ]
     },
     "execution_count": 20,
     "metadata": {},
     "output_type": "execute_result"
    }
   ],
   "source": [
    "(pprint (take 1 msgs))"
   ]
  },
  {
   "cell_type": "markdown",
   "metadata": {},
   "source": [
    "## Add Message Sentiment"
   ]
  },
  {
   "cell_type": "markdown",
   "metadata": {},
   "source": [
    "We have our files into the `msg` variable, so now we can analyze the msg content with VADER. Our goal here is to take an intial look at the enron data by visualizing the average sentiment of all sent messages on a given day over time.\n",
    "\n",
    "To get this done we'll define another transform function. A couple of steps are required:\n",
    "\n",
    "1. Break the messages into individual sentences;  \n",
    "2. Clean the msgs by removing line break symbols;  \n",
    "3. Calculate message sentiment by analyzing each sentence individually and then taking the average.\n",
    "4. Average the sentiment of all messages for a given day.\n",
    "\n",
    "We are breaking the message into sentences and analyzing each sentence individually because this is what the creator of the library suggest is the best method. The methods for cleaning and then parsing the sentences are relatively simple. To sentencize the messages we use a method from the `clojure-opennelp` project. "
   ]
  },
  {
   "cell_type": "code",
   "execution_count": 21,
   "metadata": {},
   "outputs": [
    {
     "data": {
      "text/plain": [
       "#'drafts.sentiment_analysis/remove-line-breaks"
      ]
     },
     "execution_count": 21,
     "metadata": {},
     "output_type": "execute_result"
    }
   ],
   "source": [
    "(defn remove-line-breaks [text]\n",
    "    (clojure.string/replace text #\"\\n\" \"\"))"
   ]
  },
  {
   "cell_type": "code",
   "execution_count": 22,
   "metadata": {
    "lines_to_next_cell": 2
   },
   "outputs": [
    {
     "data": {
      "text/plain": [
       "#'drafts.sentiment_analysis/get-sentences"
      ]
     },
     "execution_count": 22,
     "metadata": {},
     "output_type": "execute_result"
    }
   ],
   "source": [
    "(def get-sentences (make-sentence-detector \"./models/en-sent.bin\"))"
   ]
  },
  {
   "cell_type": "markdown",
   "metadata": {},
   "source": [
    "Now that we have our methods for cleaning and sentencizing, we put them all together in a function that takes a message and returns its average sentiment:"
   ]
  },
  {
   "cell_type": "code",
   "execution_count": 23,
   "metadata": {},
   "outputs": [
    {
     "data": {
      "text/plain": [
       "#'drafts.sentiment_analysis/msg->avg-sentiment"
      ]
     },
     "execution_count": 23,
     "metadata": {},
     "output_type": "execute_result"
    }
   ],
   "source": [
    "(defn msg->avg-sentiment [msg]\n",
    "  (->> msg\n",
    "       (:body)\n",
    "       (get-sentences)\n",
    "       (transduce\n",
    "        (map (fn [sentence]\n",
    "               (-> sentence\n",
    "                   remove-line-breaks\n",
    "                   (#(. ^SentimentAnalysis sa (getSentimentAnalysis %)))\n",
    "                   (get \"compound\"))))\n",
    "        stats/mean)))"
   ]
  },
  {
   "cell_type": "markdown",
   "metadata": {},
   "source": [
    "You'll notice that this function also uses the concept of transducers, even thought we didn't formally define a transform. In this case, the transform function is defined in-line (see the `map` expression, and remember it returns a transducer if not provided a collection). \n",
    "\n",
    "This transform is then provided an argument to the `transduce` function. `transduce` takes both a transform and a reducer, and then applies the reducer function to the result of the transform. \n",
    "\n",
    "In this case, our `map`-generated transform converts a sentence into that sentence's compound sentiment score. The reducer function `stats/mean` then takes those compound sentiment scores and returns their average. See how concise and expressive clojure data science can be!?\n",
    "\n",
    "Now to put our `msg->avg-sentiment` function to work, we'll define and execute another transformation using `sequence`. We'll limit the size of the emails to 4000 characters in order to make the process faster:\n"
   ]
  },
  {
   "cell_type": "code",
   "execution_count": 24,
   "metadata": {},
   "outputs": [
    {
     "data": {
      "text/plain": [
       "#'drafts.sentiment_analysis/sentiment"
      ]
     },
     "execution_count": 24,
     "metadata": {},
     "output_type": "execute_result"
    }
   ],
   "source": [
    "(def sentiment \n",
    "    (sequence\n",
    "          (comp \n",
    "            (filter #(< (count (get % :body)) 4000))\n",
    "            (map (fn [msg] (conj msg {:avg-sentiment (msg->avg-sentiment msg)}))))\n",
    "          msgs))"
   ]
  },
  {
   "cell_type": "code",
   "execution_count": 25,
   "metadata": {},
   "outputs": [
    {
     "name": "stdout",
     "output_type": "stream",
     "text": [
      "\n",
      "|                   :date-sent |       :avg-sentiment |\n",
      "|------------------------------+----------------------|\n",
      "| Tue Nov 21 16:16:00 EST 2000 |  0.08433029845808492 |\n",
      "| Tue Feb 20 17:15:00 EST 2001 |  0.16147499904036522 |\n",
      "| Thu Jan 11 15:16:00 EST 2001 |  0.06797179616151904 |\n",
      "| Mon Jul 17 03:50:00 EDT 2000 | 0.005300000309944153 |\n",
      "| Tue Feb 06 08:15:00 EST 2001 |  0.01825161374384357 |\n",
      "| Thu Aug 17 07:48:00 EDT 2000 |                  0.0 |\n",
      "| Mon Mar 26 06:08:00 EST 2001 |                  0.0 |\n",
      "| Wed Sep 27 07:12:00 EDT 2000 |  0.48599998156229657 |\n",
      "| Sun May 13 11:36:00 EDT 2001 |  0.21230000044618333 |\n",
      "| Wed Oct 18 05:47:00 EDT 2000 | 0.025407693133904383 |\n"
     ]
    },
    {
     "data": {
      "text/plain": [
       "nil"
      ]
     },
     "execution_count": 25,
     "metadata": {},
     "output_type": "execute_result"
    }
   ],
   "source": [
    "(->> sentiment\n",
    "     (take 10)\n",
    "     (map #(select-keys % [:date-sent :avg-sentiment]))\n",
    "     print-table)"
   ]
  },
  {
   "cell_type": "markdown",
   "metadata": {},
   "source": [
    "## Building Time-Series Data"
   ]
  },
  {
   "cell_type": "markdown",
   "metadata": {},
   "source": [
    "At this point, we have in our `sentiment` variable a data structure containing an average compound score for all the sentences in each individual message and the time that message was sent.\n",
    "\n",
    "We are geting close to our goal. What we need to do now is get an overall sentiment score for all the messages on a given day. To do this, we will flatten all the time stamps in the `:date-sent` so that they only show the day that they were sent. \n",
    "\n",
    "Then once we've done that we'll build an average score for each day. And just to get a bit fancier we will also calculate a 30-day moving average.\n",
    "\n",
    "We'll begin with a function that transforms a dates to a base time relative to UTC. The key to this is `clj-time`'s `floor` method."
   ]
  },
  {
   "cell_type": "code",
   "execution_count": 26,
   "metadata": {},
   "outputs": [
    {
     "data": {
      "text/plain": [
       "#'drafts.sentiment_analysis/get-time-data"
      ]
     },
     "execution_count": 26,
     "metadata": {},
     "output_type": "execute_result"
    }
   ],
   "source": [
    "(defn get-time-data [{:keys [date-sent avg-sentiment]}]\n",
    "    {:date (-> date-sent\n",
    "               c/from-date\n",
    "               (t/floor t/day))\n",
    "     :avg-sentiment avg-sentiment})"
   ]
  },
  {
   "cell_type": "code",
   "execution_count": 27,
   "metadata": {},
   "outputs": [
    {
     "name": "stdout",
     "output_type": "stream",
     "text": [
      "\n",
      "|                    :date |       :avg-sentiment |\n",
      "|--------------------------+----------------------|\n",
      "| 2000-11-21T00:00:00.000Z |  0.08433029845808492 |\n",
      "| 2001-02-20T00:00:00.000Z |  0.16147499904036522 |\n",
      "| 2001-01-11T00:00:00.000Z |  0.06797179616151904 |\n",
      "| 2000-07-17T00:00:00.000Z | 0.005300000309944153 |\n",
      "| 2001-02-06T00:00:00.000Z |  0.01825161374384357 |\n"
     ]
    },
    {
     "data": {
      "text/plain": [
       "nil"
      ]
     },
     "execution_count": 27,
     "metadata": {},
     "output_type": "execute_result"
    }
   ],
   "source": [
    "(->> sentiment\n",
    "     (eduction (comp (take 5)\n",
    "                     (map get-time-data)))\n",
    "     print-table)"
   ]
  },
  {
   "cell_type": "markdown",
   "metadata": {},
   "source": [
    "Now that we've normalized the `:date`, we can do our final transform. Our goal is to gather together all the sentiment scores for each day and then take their average.  We can express exactly this idea in a concise manner using a new function, `by-key`, from the net.cgrand/xforms library.\n",
    "\n",
    "Let's look at the documentation for this function:"
   ]
  },
  {
   "cell_type": "code",
   "execution_count": 28,
   "metadata": {},
   "outputs": [
    {
     "name": "stdout",
     "output_type": "stream",
     "text": [
      "-------------------------\n",
      "net.cgrand.xforms/by-key\n",
      "([xform] [kfn xform] [kfn vfn xform] [kfn vfn pair xform])\n",
      "  Returns a transducer which partitions items according to kfn.\n",
      "   It applies the transform specified by xform to each partition.\n",
      "   Partitions contain the \"value part\" (as returned by vfn) of each item.\n",
      "   The resulting transformed items are wrapped back into a \"pair\" using the pair function.\n",
      "   Default values for kfn, vfn and pair are first, second (or identity if kfn is specified) and vector.\n"
     ]
    },
    {
     "data": {
      "text/plain": [
       "nil"
      ]
     },
     "execution_count": 28,
     "metadata": {},
     "output_type": "execute_result"
    }
   ],
   "source": [
    "(doc x/by-key)"
   ]
  },
  {
   "cell_type": "markdown",
   "metadata": {},
   "source": [
    "Essentially, `by-key` takes a key function (`kfn`) that it uses to partition the collection it is provided; then, it applies the transform (`xform`) that has been provided to each partition. `by-key` also has an arrity in which you provide a \"value\" function (`vfn`) to extract the \"value part\" from each piece of data. On top of all that, `by-key` returns a transducer, so we can use it in much the same way that we have been using the `map` function as input into any other Clojure function that accepts transducers.\n",
    "\n",
    "So how do we build the call to `by-key`. Well, remember that in Clojure keywords are also functions that if provided a map as an argument will extract the value associated with that key. Therefore we can simply use the `:date` keyword as our partition function, and `:avg-sentiment` as our value function. Finally, we provide a transform function provided by the same library to take the average: `x/avg`:"
   ]
  },
  {
   "cell_type": "code",
   "execution_count": 29,
   "metadata": {},
   "outputs": [
    {
     "data": {
      "text/plain": [
       "#'drafts.sentiment_analysis/average-sentiment-data"
      ]
     },
     "execution_count": 29,
     "metadata": {},
     "output_type": "execute_result"
    }
   ],
   "source": [
    "(def average-sentiment-data (into (sorted-map)\n",
    "                                  (comp (map get-time-data)\n",
    "                                        (x/by-key :date\n",
    "                                                  :avg-sentiment\n",
    "                                                  x/avg))\n",
    "                                  sentiment))"
   ]
  },
  {
   "cell_type": "code",
   "execution_count": 30,
   "metadata": {},
   "outputs": [
    {
     "data": {
      "text/plain": [
       "556"
      ]
     },
     "execution_count": 30,
     "metadata": {},
     "output_type": "execute_result"
    }
   ],
   "source": [
    "(count average-sentiment-data)"
   ]
  },
  {
   "cell_type": "markdown",
   "metadata": {},
   "source": [
    "As you can see, we've reduced our dataset size considerably. Now we have a single average sentiment score for all messages for each day. \n",
    "\n",
    "Our next and final step before visualizing is to add a moving average. We won't narrate this transformation as it uses pretty basic Clojure functions and the code speaks for itself."
   ]
  },
  {
   "cell_type": "code",
   "execution_count": 31,
   "metadata": {},
   "outputs": [
    {
     "data": {
      "text/plain": [
       "#'drafts.sentiment_analysis/moving-average"
      ]
     },
     "execution_count": 31,
     "metadata": {},
     "output_type": "execute_result"
    }
   ],
   "source": [
    "(defn average [coll]\n",
    "  (/ (reduce + coll)\n",
    "      (count coll)))\n",
    "\n",
    "(defn moving-average [period coll] \n",
    "  (lazy-cat (repeat (dec period) nil) \n",
    "            (map average (partition period 1  coll))))"
   ]
  },
  {
   "cell_type": "code",
   "execution_count": 32,
   "metadata": {},
   "outputs": [
    {
     "data": {
      "text/plain": [
       "#'drafts.sentiment_analysis/time-series-data"
      ]
     },
     "execution_count": 32,
     "metadata": {},
     "output_type": "execute_result"
    }
   ],
   "source": [
    "(def time-series-data\n",
    "    (->> average-sentiment-data\n",
    "         (#(vector (keys %)\n",
    "                   (vals %)\n",
    "                   (moving-average 30 (vals %))))\n",
    "         (apply map (fn [date v smoothed-v]\n",
    "                        {:date (str date)\n",
    "                         :avg-sentiment v\n",
    "                         :moving-avg smoothed-v}))))"
   ]
  },
  {
   "cell_type": "code",
   "execution_count": 33,
   "metadata": {},
   "outputs": [
    {
     "name": "stdout",
     "output_type": "stream",
     "text": [
      "\n",
      "|                    :date |        :avg-sentiment |         :moving-avg |\n",
      "|--------------------------+-----------------------+---------------------|\n",
      "| 1999-12-10T00:00:00.000Z |   0.15384195645396806 |                     |\n",
      "| 1999-12-11T00:00:00.000Z |   0.21958139434803364 |                     |\n",
      "| 1999-12-12T00:00:00.000Z |   0.08632857033184596 |                     |\n",
      "| 1999-12-13T00:00:00.000Z |   0.11342400834208506 |                     |\n",
      "| 1999-12-14T00:00:00.000Z |    0.0955659725782402 |                     |\n",
      "| 1999-12-15T00:00:00.000Z |   0.11260412064069529 |                     |\n",
      "| 1999-12-16T00:00:00.000Z |   0.15450732641099466 |                     |\n",
      "| 1999-12-17T00:00:00.000Z |   0.18895648603878956 |                     |\n",
      "| 1999-12-19T00:00:00.000Z |    0.1463428994915329 |                     |\n",
      "| 1999-12-20T00:00:00.000Z |   0.18272599393814973 |                     |\n",
      "| 1999-12-21T00:00:00.000Z |   0.23931230496760314 |                     |\n",
      "| 1999-12-22T00:00:00.000Z |   0.19382563663415717 |                     |\n",
      "| 1999-12-23T00:00:00.000Z |   0.09785311118309317 |                     |\n",
      "| 1999-12-27T00:00:00.000Z |   0.12636056245101282 |                     |\n",
      "| 1999-12-28T00:00:00.000Z |   0.06694276222368742 |                     |\n",
      "| 1999-12-29T00:00:00.000Z |  0.061291793719052315 |                     |\n",
      "| 1999-12-30T00:00:00.000Z |   0.21682072228882723 |                     |\n",
      "| 1999-12-31T00:00:00.000Z |    0.2735766629378001 |                     |\n",
      "| 2000-01-01T00:00:00.000Z |   0.17788999676704406 |                     |\n",
      "| 2000-01-03T00:00:00.000Z |   0.09984083411594233 |                     |\n",
      "| 2000-01-04T00:00:00.000Z |   0.17512606859696156 |                     |\n",
      "| 2000-01-05T00:00:00.000Z |    0.1351371521463987 |                     |\n",
      "| 2000-01-06T00:00:00.000Z |   0.17525790188217125 |                     |\n",
      "| 2000-01-07T00:00:00.000Z |     0.111300774246198 |                     |\n",
      "| 2000-01-08T00:00:00.000Z | -0.034433335065841675 |                     |\n",
      "| 2000-01-09T00:00:00.000Z |    0.0558076910674572 |                     |\n",
      "| 2000-01-10T00:00:00.000Z |    0.1348895337987772 |                     |\n",
      "| 2000-01-11T00:00:00.000Z |   0.14818838720828623 |                     |\n",
      "| 2000-01-12T00:00:00.000Z |   0.15860672041284293 |                     |\n",
      "| 2000-01-13T00:00:00.000Z |   0.14190468549743795 | 0.14031262318844148 |\n",
      "| 2000-01-14T00:00:00.000Z |    0.1752104172566968 |  0.1410249052151991 |\n",
      "| 2000-01-15T00:00:00.000Z |   0.18954976094620565 |  0.1400238507684715 |\n",
      "| 2000-01-16T00:00:00.000Z |   0.07999444256226222 | 0.13981271317615204 |\n",
      "| 2000-01-17T00:00:00.000Z |   0.11826174065404171 | 0.13997397091988392 |\n",
      "| 2000-01-18T00:00:00.000Z |   0.10895463226580461 | 0.14042025957613605 |\n",
      "| 2000-01-19T00:00:00.000Z |   0.12818954843937214 | 0.14093977383609194 |\n",
      "| 2000-01-20T00:00:00.000Z |   0.14470303618208374 | 0.14061296416179492 |\n",
      "| 2000-01-21T00:00:00.000Z |   0.09959431418396877 | 0.13763422509996753 |\n",
      "| 2000-01-22T00:00:00.000Z |   0.06498591804860175 | 0.13492232571853652 |\n",
      "| 2000-01-23T00:00:00.000Z |    -0.296999990940094 | 0.11893145955592836 |\n"
     ]
    },
    {
     "data": {
      "text/plain": [
       "nil"
      ]
     },
     "execution_count": 33,
     "metadata": {},
     "output_type": "execute_result"
    }
   ],
   "source": [
    "(print-table (take 40 time-series-data))"
   ]
  },
  {
   "cell_type": "markdown",
   "metadata": {},
   "source": [
    "## Visualization"
   ]
  },
  {
   "cell_type": "markdown",
   "metadata": {},
   "source": [
    "We've finally arrived at the exciting moment of visualization. The tool we'll use to chart our data is called `oz`. It is built on top of a `vega-lite`, which is a highly declarative charting language built in JavaScript that provides an alternative to `d3`. \n",
    "\n",
    "It's declartive syntax makes it pretty easy to understand. All we'll really do here is define a configuration map that specifies the visual characteristics of the plot we want along with our data. Then we call `oz/view!` on that configuration. Here it is!"
   ]
  },
  {
   "cell_type": "code",
   "execution_count": 34,
   "metadata": {},
   "outputs": [
    {
     "data": {
      "text/html": [
       "\n",
       "<div>\n",
       "  <div id='uuid-7fd6a8c3-6232-4723-b045-5deb0eb290e8'></div>\n",
       "  <script>\n",
       "  requirejs.config({\n",
       "    baseUrl: 'https://cdn.jsdelivr.net/npm/',\n",
       "    paths: {\n",
       "      'vega-embed':  'vega-embed@3?noext',\n",
       "      'vega-lib': 'vega-lib?noext',\n",
       "      'vega-lite': 'vega-lite@2?noext',\n",
       "      'vega': 'vega@3?noext'\n",
       "    }\n",
       "  });\n",
       "  require(['vega-embed'], function(vegaEmbed) {\n",
       "    let spec = {\"width\":600,\"height\":600,\"data\":{\"values\":[{\"date\":\"1999-12-10T00:00:00.000Z\",\"avg-sentiment\":0.15384195645396806,\"moving-avg\":null},{\"date\":\"1999-12-11T00:00:00.000Z\",\"avg-sentiment\":0.21958139434803364,\"moving-avg\":null},{\"date\":\"1999-12-12T00:00:00.000Z\",\"avg-sentiment\":0.08632857033184596,\"moving-avg\":null},{\"date\":\"1999-12-13T00:00:00.000Z\",\"avg-sentiment\":0.11342400834208506,\"moving-avg\":null},{\"date\":\"1999-12-14T00:00:00.000Z\",\"avg-sentiment\":0.0955659725782402,\"moving-avg\":null},{\"date\":\"1999-12-15T00:00:00.000Z\",\"avg-sentiment\":0.11260412064069529,\"moving-avg\":null},{\"date\":\"1999-12-16T00:00:00.000Z\",\"avg-sentiment\":0.15450732641099466,\"moving-avg\":null},{\"date\":\"1999-12-17T00:00:00.000Z\",\"avg-sentiment\":0.18895648603878956,\"moving-avg\":null},{\"date\":\"1999-12-19T00:00:00.000Z\",\"avg-sentiment\":0.1463428994915329,\"moving-avg\":null},{\"date\":\"1999-12-20T00:00:00.000Z\",\"avg-sentiment\":0.18272599393814973,\"moving-avg\":null},{\"date\":\"1999-12-21T00:00:00.000Z\",\"avg-sentiment\":0.23931230496760314,\"moving-avg\":null},{\"date\":\"1999-12-22T00:00:00.000Z\",\"avg-sentiment\":0.19382563663415717,\"moving-avg\":null},{\"date\":\"1999-12-23T00:00:00.000Z\",\"avg-sentiment\":0.09785311118309317,\"moving-avg\":null},{\"date\":\"1999-12-27T00:00:00.000Z\",\"avg-sentiment\":0.12636056245101282,\"moving-avg\":null},{\"date\":\"1999-12-28T00:00:00.000Z\",\"avg-sentiment\":0.06694276222368742,\"moving-avg\":null},{\"date\":\"1999-12-29T00:00:00.000Z\",\"avg-sentiment\":0.061291793719052315,\"moving-avg\":null},{\"date\":\"1999-12-30T00:00:00.000Z\",\"avg-sentiment\":0.21682072228882723,\"moving-avg\":null},{\"date\":\"1999-12-31T00:00:00.000Z\",\"avg-sentiment\":0.2735766629378001,\"moving-avg\":null},{\"date\":\"2000-01-01T00:00:00.000Z\",\"avg-sentiment\":0.17788999676704406,\"moving-avg\":null},{\"date\":\"2000-01-03T00:00:00.000Z\",\"avg-sentiment\":0.09984083411594233,\"moving-avg\":null},{\"date\":\"2000-01-04T00:00:00.000Z\",\"avg-sentiment\":0.17512606859696156,\"moving-avg\":null},{\"date\":\"2000-01-05T00:00:00.000Z\",\"avg-sentiment\":0.1351371521463987,\"moving-avg\":null},{\"date\":\"2000-01-06T00:00:00.000Z\",\"avg-sentiment\":0.17525790188217125,\"moving-avg\":null},{\"date\":\"2000-01-07T00:00:00.000Z\",\"avg-sentiment\":0.111300774246198,\"moving-avg\":null},{\"date\":\"2000-01-08T00:00:00.000Z\",\"avg-sentiment\":-0.034433335065841675,\"moving-avg\":null},{\"date\":\"2000-01-09T00:00:00.000Z\",\"avg-sentiment\":0.0558076910674572,\"moving-avg\":null},{\"date\":\"2000-01-10T00:00:00.000Z\",\"avg-sentiment\":0.1348895337987772,\"moving-avg\":null},{\"date\":\"2000-01-11T00:00:00.000Z\",\"avg-sentiment\":0.14818838720828623,\"moving-avg\":null},{\"date\":\"2000-01-12T00:00:00.000Z\",\"avg-sentiment\":0.15860672041284293,\"moving-avg\":null},{\"date\":\"2000-01-13T00:00:00.000Z\",\"avg-sentiment\":0.14190468549743795,\"moving-avg\":0.14031262318844148},{\"date\":\"2000-01-14T00:00:00.000Z\",\"avg-sentiment\":0.1752104172566968,\"moving-avg\":0.1410249052151991},{\"date\":\"2000-01-15T00:00:00.000Z\",\"avg-sentiment\":0.18954976094620565,\"moving-avg\":0.1400238507684715},{\"date\":\"2000-01-16T00:00:00.000Z\",\"avg-sentiment\":0.07999444256226222,\"moving-avg\":0.13981271317615204},{\"date\":\"2000-01-17T00:00:00.000Z\",\"avg-sentiment\":0.11826174065404171,\"moving-avg\":0.13997397091988392},{\"date\":\"2000-01-18T00:00:00.000Z\",\"avg-sentiment\":0.10895463226580461,\"moving-avg\":0.14042025957613605},{\"date\":\"2000-01-19T00:00:00.000Z\",\"avg-sentiment\":0.12818954843937214,\"moving-avg\":0.14093977383609194},{\"date\":\"2000-01-20T00:00:00.000Z\",\"avg-sentiment\":0.14470303618208374,\"moving-avg\":0.14061296416179492},{\"date\":\"2000-01-21T00:00:00.000Z\",\"avg-sentiment\":0.09959431418396877,\"moving-avg\":0.13763422509996753},{\"date\":\"2000-01-22T00:00:00.000Z\",\"avg-sentiment\":0.06498591804860175,\"moving-avg\":0.13492232571853652},{\"date\":\"2000-01-23T00:00:00.000Z\",\"avg-sentiment\":-0.296999990940094,\"moving-avg\":0.11893145955592836},{\"date\":\"2000-01-24T00:00:00.000Z\",\"avg-sentiment\":0.1557799285441729,\"moving-avg\":0.11614704700848072},{\"date\":\"2000-01-25T00:00:00.000Z\",\"avg-sentiment\":0.0672069629657131,\"moving-avg\":0.11192642455286592},{\"date\":\"2000-01-26T00:00:00.000Z\",\"avg-sentiment\":0.11880520131360478,\"moving-avg\":0.11262482755721633},{\"date\":\"2000-01-27T00:00:00.000Z\",\"avg-sentiment\":0.12150810113625775,\"moving-avg\":0.11246307884672448},{\"date\":\"2000-01-28T00:00:00.000Z\",\"avg-sentiment\":0.12098753819804559,\"moving-avg\":0.11426457137920308},{\"date\":\"2000-01-29T00:00:00.000Z\",\"avg-sentiment\":0.10606666405995686,\"moving-avg\":0.11575706705723325},{\"date\":\"2000-01-31T00:00:00.000Z\",\"avg-sentiment\":0.1484276077620052,\"moving-avg\":0.11347729657300584},{\"date\":\"2000-02-01T00:00:00.000Z\",\"avg-sentiment\":0.12765618748922644,\"moving-avg\":0.10861328072472005},{\"date\":\"2000-02-02T00:00:00.000Z\",\"avg-sentiment\":0.13621909706873964,\"moving-avg\":0.10722425073477658},{\"date\":\"2000-02-03T00:00:00.000Z\",\"avg-sentiment\":0.15368660149337832,\"moving-avg\":0.10901910964735778},{\"date\":\"2000-02-04T00:00:00.000Z\",\"avg-sentiment\":0.1458907600084918,\"moving-avg\":0.10804459936107545},{\"date\":\"2000-02-06T00:00:00.000Z\",\"avg-sentiment\":0.17271737115314373,\"moving-avg\":0.10929727332796696},{\"date\":\"2000-02-07T00:00:00.000Z\",\"avg-sentiment\":0.0997588668279365,\"moving-avg\":0.10678063882615914},{\"date\":\"2000-02-08T00:00:00.000Z\",\"avg-sentiment\":0.13763228244685213,\"moving-avg\":0.10765835576618095},{\"date\":\"2000-02-09T00:00:00.000Z\",\"avg-sentiment\":0.19083267871161086,\"moving-avg\":0.11516722289209604},{\"date\":\"2000-02-10T00:00:00.000Z\",\"avg-sentiment\":0.13697218377926346,\"moving-avg\":0.11787270598248957},{\"date\":\"2000-02-11T00:00:00.000Z\",\"avg-sentiment\":0.1420472642669334,\"moving-avg\":0.11811129699809478},{\"date\":\"2000-02-13T00:00:00.000Z\",\"avg-sentiment\":0.16481005945440494,\"moving-avg\":0.11866535273963207},{\"date\":\"2000-02-14T00:00:00.000Z\",\"avg-sentiment\":0.12304355748116023,\"moving-avg\":0.11747991397524264},{\"date\":\"2000-02-15T00:00:00.000Z\",\"avg-sentiment\":0.11836899511359168,\"moving-avg\":0.11669539096244777},{\"date\":\"2000-02-16T00:00:00.000Z\",\"avg-sentiment\":0.09867112542110774,\"moving-avg\":0.1141440812345948},{\"date\":\"2000-02-17T00:00:00.000Z\",\"avg-sentiment\":0.1425490076018332,\"moving-avg\":0.11257738945644905},{\"date\":\"2000-02-18T00:00:00.000Z\",\"avg-sentiment\":0.1553450824516436,\"moving-avg\":0.11508907745276177},{\"date\":\"2000-02-19T00:00:00.000Z\",\"avg-sentiment\":0.0678818435112517,\"moving-avg\":0.1134097475480021},{\"date\":\"2000-02-20T00:00:00.000Z\",\"avg-sentiment\":0.16055000200867653,\"moving-avg\":0.11512959320609784},{\"date\":\"2000-02-21T00:00:00.000Z\",\"avg-sentiment\":0.19784281383617158,\"moving-avg\":0.11745136871932448},{\"date\":\"2000-02-22T00:00:00.000Z\",\"avg-sentiment\":0.10586505988048334,\"moving-avg\":0.11615676950927113},{\"date\":\"2000-02-23T00:00:00.000Z\",\"avg-sentiment\":0.1485750562020432,\"moving-avg\":0.1177894609098736},{\"date\":\"2000-02-24T00:00:00.000Z\",\"avg-sentiment\":0.1770819145254246,\"moving-avg\":0.12152599412576771},{\"date\":\"2000-02-25T00:00:00.000Z\",\"avg-sentiment\":0.16269934043112108,\"moving-avg\":0.1368493051714749},{\"date\":\"2000-02-28T00:00:00.000Z\",\"avg-sentiment\":0.1362129062421101,\"moving-avg\":0.13619707109473944},{\"date\":\"2000-02-29T00:00:00.000Z\",\"avg-sentiment\":0.18152582444922766,\"moving-avg\":0.1400076998108566},{\"date\":\"2000-03-01T00:00:00.000Z\",\"avg-sentiment\":0.13175598143534104,\"moving-avg\":0.14043939248158113},{\"date\":\"2000-03-02T00:00:00.000Z\",\"avg-sentiment\":0.09708518674002277,\"moving-avg\":0.13962529533503995},{\"date\":\"2000-03-03T00:00:00.000Z\",\"avg-sentiment\":0.09690629838930076,\"moving-avg\":0.13882258734141514},{\"date\":\"2000-03-05T00:00:00.000Z\",\"avg-sentiment\":0.2333407737314701,\"moving-avg\":0.14306505766379893},{\"date\":\"2000-03-06T00:00:00.000Z\",\"avg-sentiment\":0.12016641771709811,\"moving-avg\":0.14212301799563537},{\"date\":\"2000-03-07T00:00:00.000Z\",\"avg-sentiment\":0.11884446129691838,\"moving-avg\":0.14182929378922507},{\"date\":\"2000-03-08T00:00:00.000Z\",\"avg-sentiment\":0.12809409671647295,\"moving-avg\":0.1415584604441495},{\"date\":\"2000-03-09T00:00:00.000Z\",\"avg-sentiment\":0.12836883055998682,\"moving-avg\":0.14071453474636977},{\"date\":\"2000-03-10T00:00:00.000Z\",\"avg-sentiment\":0.11453685522435539,\"moving-avg\":0.13966940458689858},{\"date\":\"2000-03-12T00:00:00.000Z\",\"avg-sentiment\":0.39631249383091927,\"moving-avg\":0.1471225753428244},{\"date\":\"2000-03-13T00:00:00.000Z\",\"avg-sentiment\":0.12846327377176428,\"moving-avg\":0.1480793889076187},{\"date\":\"2000-03-14T00:00:00.000Z\",\"avg-sentiment\":0.12036573356953911,\"moving-avg\":0.14750383727837493},{\"date\":\"2000-03-15T00:00:00.000Z\",\"avg-sentiment\":0.14219899602802827,\"moving-avg\":0.1458827145222555},{\"date\":\"2000-03-16T00:00:00.000Z\",\"avg-sentiment\":0.14917652263351652,\"moving-avg\":0.14628952581739726},{\"date\":\"2000-03-17T00:00:00.000Z\",\"avg-sentiment\":0.09064469778153536,\"moving-avg\":0.14457610693455067},{\"date\":\"2000-03-20T00:00:00.000Z\",\"avg-sentiment\":0.07269806016231123,\"moving-avg\":0.14150570695814751},{\"date\":\"2000-03-21T00:00:00.000Z\",\"avg-sentiment\":0.11188378974473774,\"moving-avg\":0.1411337147002668},{\"date\":\"2000-03-22T00:00:00.000Z\",\"avg-sentiment\":0.0963802589827815,\"moving-avg\":0.1404007568292398},{\"date\":\"2000-03-23T00:00:00.000Z\",\"avg-sentiment\":0.12137649139894288,\"moving-avg\":0.14115760236183428},{\"date\":\"2000-03-24T00:00:00.000Z\",\"avg-sentiment\":0.11054565310361225,\"moving-avg\":0.14009082387856023},{\"date\":\"2000-03-26T00:00:00.000Z\",\"avg-sentiment\":0.1735639953613281,\"moving-avg\":0.14069812097554973},{\"date\":\"2000-03-27T00:00:00.000Z\",\"avg-sentiment\":0.1546648296638631,\"moving-avg\":0.14359088718063678},{\"date\":\"2000-03-28T00:00:00.000Z\",\"avg-sentiment\":0.08295913917153054,\"moving-avg\":0.14100452508606529},{\"date\":\"2000-03-29T00:00:00.000Z\",\"avg-sentiment\":0.15794837036255463,\"moving-avg\":0.1396747103036114},{\"date\":\"2000-03-30T00:00:00.000Z\",\"avg-sentiment\":0.12485321538878116,\"moving-avg\":0.14030764882055463},{\"date\":\"2000-03-31T00:00:00.000Z\",\"avg-sentiment\":0.16209041479847153,\"moving-avg\":0.14075816077376888},{\"date\":\"2000-04-03T00:00:00.000Z\",\"avg-sentiment\":0.14174005002952145,\"moving-avg\":0.13958009862390547},{\"date\":\"2000-04-04T00:00:00.000Z\",\"avg-sentiment\":0.12043773743384951,\"moving-avg\":0.13817137852399644},{\"date\":\"2000-04-05T00:00:00.000Z\",\"avg-sentiment\":0.11925295053543956,\"moving-avg\":0.1376060466671074},{\"date\":\"2000-04-06T00:00:00.000Z\",\"avg-sentiment\":0.11049681704185567,\"moving-avg\":0.1352384130868617},{\"date\":\"2000-04-07T00:00:00.000Z\",\"avg-sentiment\":0.10843267507310889,\"moving-avg\":0.13446096954145395},{\"date\":\"2000-04-08T00:00:00.000Z\",\"avg-sentiment\":0.10700291960717286,\"moving-avg\":0.13479156063702563},{\"date\":\"2000-04-09T00:00:00.000Z\",\"avg-sentiment\":0.05770000070333481,\"moving-avg\":0.13348468404749342},{\"date\":\"2000-04-10T00:00:00.000Z\",\"avg-sentiment\":0.09728936981720449,\"moving-avg\":0.12894963725035125},{\"date\":\"2000-04-11T00:00:00.000Z\",\"avg-sentiment\":0.09709485746215273,\"moving-avg\":0.12818058524185305},{\"date\":\"2000-04-12T00:00:00.000Z\",\"avg-sentiment\":0.15329752664108645,\"moving-avg\":0.12932902075332534},{\"date\":\"2000-04-13T00:00:00.000Z\",\"avg-sentiment\":0.10193078426778805,\"moving-avg\":0.12845691033836915},{\"date\":\"2000-04-14T00:00:00.000Z\",\"avg-sentiment\":0.15488674319472986,\"moving-avg\":0.12934084075952726},{\"date\":\"2000-04-15T00:00:00.000Z\",\"avg-sentiment\":0.1658858967642499,\"moving-avg\":0.13105247547752372},{\"date\":\"2000-04-16T00:00:00.000Z\",\"avg-sentiment\":0.09026000040272872,\"moving-avg\":0.12085072569658403},{\"date\":\"2000-04-17T00:00:00.000Z\",\"avg-sentiment\":0.1252356682572611,\"moving-avg\":0.1207431388461006},{\"date\":\"2000-04-18T00:00:00.000Z\",\"avg-sentiment\":0.10156860020046983,\"moving-avg\":0.12011656773379828},{\"date\":\"2000-04-19T00:00:00.000Z\",\"avg-sentiment\":0.1492353307346906,\"moving-avg\":0.12035111222402037},{\"date\":\"2000-04-20T00:00:00.000Z\",\"avg-sentiment\":0.10100729929346611,\"moving-avg\":0.11874547144601867},{\"date\":\"2000-04-21T00:00:00.000Z\",\"avg-sentiment\":0.09324685361086231,\"moving-avg\":0.1188322099736629},{\"date\":\"2000-04-22T00:00:00.000Z\",\"avg-sentiment\":-0.09866666793823242,\"moving-avg\":0.11312005237031145},{\"date\":\"2000-04-24T00:00:00.000Z\",\"avg-sentiment\":0.11116070669635036,\"moving-avg\":0.11309594960203187},{\"date\":\"2000-04-25T00:00:00.000Z\",\"avg-sentiment\":0.13508080248015125,\"moving-avg\":0.11438596771861084},{\"date\":\"2000-04-26T00:00:00.000Z\",\"avg-sentiment\":0.14349669015979125,\"moving-avg\":0.1151233076773058},{\"date\":\"2000-04-27T00:00:00.000Z\",\"avg-sentiment\":0.1050224823367379,\"moving-avg\":0.11493920198507666},{\"date\":\"2000-04-28T00:00:00.000Z\",\"avg-sentiment\":0.13593722033796588,\"moving-avg\":0.1136849761509646},{\"date\":\"2000-04-30T00:00:00.000Z\",\"avg-sentiment\":0.012866667161385218,\"moving-avg\":0.10895837073421534},{\"date\":\"2000-05-01T00:00:00.000Z\",\"avg-sentiment\":0.14706829625556384,\"moving-avg\":0.11109534263701644},{\"date\":\"2000-05-02T00:00:00.000Z\",\"avg-sentiment\":0.13534325613392015,\"moving-avg\":0.11034183882939527},{\"date\":\"2000-05-03T00:00:00.000Z\",\"avg-sentiment\":0.09935154705929444,\"moving-avg\":0.1094917832184124},{\"date\":\"2000-05-04T00:00:00.000Z\",\"avg-sentiment\":0.1565601451346913,\"moving-avg\":0.10930744089628637},{\"date\":\"2000-05-05T00:00:00.000Z\",\"avg-sentiment\":0.1111731637028543,\"moving-avg\":0.10828854468539746},{\"date\":\"2000-05-07T00:00:00.000Z\",\"avg-sentiment\":0.09162040660474575,\"moving-avg\":0.10732796699109402},{\"date\":\"2000-05-08T00:00:00.000Z\",\"avg-sentiment\":0.15881293510189837,\"moving-avg\":0.1086466331433093},{\"date\":\"2000-05-09T00:00:00.000Z\",\"avg-sentiment\":0.1331880127283496,\"moving-avg\":0.10940300633285911},{\"date\":\"2000-05-10T00:00:00.000Z\",\"avg-sentiment\":0.1493619066557885,\"moving-avg\":0.11076731405228177},{\"date\":\"2000-05-11T00:00:00.000Z\",\"avg-sentiment\":0.13639354360375225,\"moving-avg\":0.1117470015188344},{\"date\":\"2000-05-12T00:00:00.000Z\",\"avg-sentiment\":0.10252386926162559,\"moving-avg\":0.11324113047077743},{\"date\":\"2000-05-14T00:00:00.000Z\",\"avg-sentiment\":0.004927381740084716,\"moving-avg\":0.11016239753487343},{\"date\":\"2000-05-15T00:00:00.000Z\",\"avg-sentiment\":0.1225244136341881,\"moving-avg\":0.11101004940727463},{\"date\":\"2000-05-16T00:00:00.000Z\",\"avg-sentiment\":0.13905050850101852,\"moving-avg\":0.11053514880260569},{\"date\":\"2000-05-17T00:00:00.000Z\",\"avg-sentiment\":0.10953178787805805,\"moving-avg\":0.1107885155896147},{\"date\":\"2000-05-18T00:00:00.000Z\",\"avg-sentiment\":0.11919990287242825,\"moving-avg\":0.10959895424553798},{\"date\":\"2000-05-19T00:00:00.000Z\",\"avg-sentiment\":0.1654557254734103,\"moving-avg\":0.10958461520250999},{\"date\":\"2000-05-22T00:00:00.000Z\",\"avg-sentiment\":0.1279290313214347,\"moving-avg\":0.11084024956646688},{\"date\":\"2000-05-23T00:00:00.000Z\",\"avg-sentiment\":0.10863532931695517,\"moving-avg\":0.11028690493512334},{\"date\":\"2000-05-24T00:00:00.000Z\",\"avg-sentiment\":0.12204636272205073,\"moving-avg\":0.11096949701917604},{\"date\":\"2000-05-25T00:00:00.000Z\",\"avg-sentiment\":0.11180434555954147,\"moving-avg\":0.10972179751333774},{\"date\":\"2000-05-26T00:00:00.000Z\",\"avg-sentiment\":0.12078436889263673,\"moving-avg\":0.11038103316664342},{\"date\":\"2000-05-27T00:00:00.000Z\",\"avg-sentiment\":0.36833332975705463,\"moving-avg\":0.11955058237151653},{\"date\":\"2000-05-29T00:00:00.000Z\",\"avg-sentiment\":0.237766665716966,\"moving-avg\":0.1307650268266898},{\"date\":\"2000-05-30T00:00:00.000Z\",\"avg-sentiment\":0.10661324598483216,\"moving-avg\":0.13061344480297252},{\"date\":\"2000-05-31T00:00:00.000Z\",\"avg-sentiment\":0.19387286881450883,\"moving-avg\":0.1325731803474511},{\"date\":\"2000-06-01T00:00:00.000Z\",\"avg-sentiment\":0.13064446728412077,\"moving-avg\":0.1321447729182621},{\"date\":\"2000-06-02T00:00:00.000Z\",\"avg-sentiment\":0.16010211342648265,\"moving-avg\":0.1339807606212536},{\"date\":\"2000-06-03T00:00:00.000Z\",\"avg-sentiment\":0.01253050843453301,\"moving-avg\":0.12986720355780584},{\"date\":\"2000-06-04T00:00:00.000Z\",\"avg-sentiment\":0.06021428533962795,\"moving-avg\":0.1314454574970806},{\"date\":\"2000-06-05T00:00:00.000Z\",\"avg-sentiment\":0.10338481624981824,\"moving-avg\":0.12998934149688907},{\"date\":\"2000-06-06T00:00:00.000Z\",\"avg-sentiment\":0.11563059388155716,\"moving-avg\":0.12933225275514362},{\"date\":\"2000-06-07T00:00:00.000Z\",\"avg-sentiment\":0.1580687168611205,\"moving-avg\":0.13128949174853782},{\"date\":\"2000-06-08T00:00:00.000Z\",\"avg-sentiment\":0.1336934009069472,\"moving-avg\":0.13052726694094635},{\"date\":\"2000-06-09T00:00:00.000Z\",\"avg-sentiment\":0.14699446197588917,\"moving-avg\":0.1317213102167142},{\"date\":\"2000-06-11T00:00:00.000Z\",\"avg-sentiment\":0.10832936411339139,\"moving-avg\":0.13227827546700238},{\"date\":\"2000-06-12T00:00:00.000Z\",\"avg-sentiment\":0.10495578728125916,\"moving-avg\":0.1304830372063144},{\"date\":\"2000-06-13T00:00:00.000Z\",\"avg-sentiment\":0.12153160302919383,\"moving-avg\":0.13009449021634253},{\"date\":\"2000-06-14T00:00:00.000Z\",\"avg-sentiment\":0.16820635991859764,\"moving-avg\":0.13072263865843617},{\"date\":\"2000-06-15T00:00:00.000Z\",\"avg-sentiment\":0.09792894936302148,\"moving-avg\":0.12944048551707849},{\"date\":\"2000-06-16T00:00:00.000Z\",\"avg-sentiment\":0.13449587425971993,\"moving-avg\":0.13050621901701495},{\"date\":\"2000-06-18T00:00:00.000Z\",\"avg-sentiment\":0.19817500201364358,\"moving-avg\":0.1369478063594669},{\"date\":\"2000-06-19T00:00:00.000Z\",\"avg-sentiment\":0.10385107460310557,\"moving-avg\":0.13632536172509752},{\"date\":\"2000-06-20T00:00:00.000Z\",\"avg-sentiment\":0.1633273128888807,\"moving-avg\":0.13713458853802624},{\"date\":\"2000-06-21T00:00:00.000Z\",\"avg-sentiment\":0.12144081107362402,\"moving-avg\":0.13753155597787844},{\"date\":\"2000-06-22T00:00:00.000Z\",\"avg-sentiment\":0.15393151818659287,\"moving-avg\":0.1386892764883506},{\"date\":\"2000-06-23T00:00:00.000Z\",\"avg-sentiment\":0.13297178506638052,\"moving-avg\":0.1376064784747829},{\"date\":\"2000-06-24T00:00:00.000Z\",\"avg-sentiment\":0.20032555721700193,\"moving-avg\":0.14001969600463518},{\"date\":\"2000-06-26T00:00:00.000Z\",\"avg-sentiment\":0.09957368571982113,\"moving-avg\":0.13971764121806404},{\"date\":\"2000-06-27T00:00:00.000Z\",\"avg-sentiment\":0.0948448507937624,\"moving-avg\":0.13881092415378776},{\"date\":\"2000-06-28T00:00:00.000Z\",\"avg-sentiment\":0.1293825831960508,\"moving-avg\":0.13939686540833807},{\"date\":\"2000-06-29T00:00:00.000Z\",\"avg-sentiment\":0.1431034233656653,\"moving-avg\":0.14014083389077234},{\"date\":\"2000-06-30T00:00:00.000Z\",\"avg-sentiment\":0.16536732431563408,\"moving-avg\":0.13337530037605833},{\"date\":\"2000-07-01T00:00:00.000Z\",\"avg-sentiment\":0.1789294381291319,\"moving-avg\":0.13141405945646384},{\"date\":\"2000-07-02T00:00:00.000Z\",\"avg-sentiment\":0.18060000240802765,\"moving-avg\":0.13388028467057034},{\"date\":\"2000-07-03T00:00:00.000Z\",\"avg-sentiment\":-0.27320000529289246,\"moving-avg\":0.11831118886699034},{\"date\":\"2000-07-04T00:00:00.000Z\",\"avg-sentiment\":0.084368746727705,\"moving-avg\":0.11676866484844314},{\"date\":\"2000-07-05T00:00:00.000Z\",\"avg-sentiment\":0.09367197722402866,\"moving-avg\":0.11455432697502801},{\"date\":\"2000-07-06T00:00:00.000Z\",\"avg-sentiment\":0.134100237676982,\"moving-avg\":0.11860665128310964},{\"date\":\"2000-07-07T00:00:00.000Z\",\"avg-sentiment\":0.14275805930948632,\"moving-avg\":0.12135811041543826},{\"date\":\"2000-07-08T00:00:00.000Z\",\"avg-sentiment\":0.20240281413512667,\"moving-avg\":0.12465871034494855},{\"date\":\"2000-07-09T00:00:00.000Z\",\"avg-sentiment\":0.11130476272886708,\"moving-avg\":0.1245145159731922},{\"date\":\"2000-07-10T00:00:00.000Z\",\"avg-sentiment\":0.1439063675960654,\"moving-avg\":0.12404243766435703},{\"date\":\"2000-07-11T00:00:00.000Z\",\"avg-sentiment\":0.1168738437505931,\"moving-avg\":0.12348178575914524},{\"date\":\"2000-07-12T00:00:00.000Z\",\"avg-sentiment\":0.1081786655899694,\"moving-avg\":0.12218792587961458},{\"date\":\"2000-07-13T00:00:00.000Z\",\"avg-sentiment\":0.10221876423791873,\"moving-avg\":0.12198423921709883},{\"date\":\"2000-07-14T00:00:00.000Z\",\"avg-sentiment\":0.1307029497756024,\"moving-avg\":0.1228424779669103},{\"date\":\"2000-07-15T00:00:00.000Z\",\"avg-sentiment\":0.1399109053069895,\"moving-avg\":0.12345512137617014},{\"date\":\"2000-07-16T00:00:00.000Z\",\"avg-sentiment\":0.11886666715145111,\"moving-avg\":0.1218104649505986},{\"date\":\"2000-07-17T00:00:00.000Z\",\"avg-sentiment\":0.11891005118754694,\"moving-avg\":0.12250983501141612},{\"date\":\"2000-07-18T00:00:00.000Z\",\"avg-sentiment\":0.11310845886644481,\"moving-avg\":0.12179692116497358},{\"date\":\"2000-07-19T00:00:00.000Z\",\"avg-sentiment\":0.08350414914812805,\"moving-avg\":0.11797455940278972},{\"date\":\"2000-07-20T00:00:00.000Z\",\"avg-sentiment\":0.14323926731512282,\"moving-avg\":0.119287499159857},{\"date\":\"2000-07-21T00:00:00.000Z\",\"avg-sentiment\":0.10814018992229929,\"moving-avg\":0.11744792839430425},{\"date\":\"2000-07-22T00:00:00.000Z\",\"avg-sentiment\":0.18979999547203383,\"moving-avg\":0.11972656787425125},{\"date\":\"2000-07-23T00:00:00.000Z\",\"avg-sentiment\":0.17376535835759188,\"moving-avg\":0.12038769587995121},{\"date\":\"2000-07-24T00:00:00.000Z\",\"avg-sentiment\":0.12842986438800003,\"moving-avg\":0.1202362985240052},{\"date\":\"2000-07-25T00:00:00.000Z\",\"avg-sentiment\":0.13989017482932642,\"moving-avg\":0.11822178577774936},{\"date\":\"2000-07-26T00:00:00.000Z\",\"avg-sentiment\":0.13839527383826264,\"moving-avg\":0.11951583871503076},{\"date\":\"2000-07-27T00:00:00.000Z\",\"avg-sentiment\":0.14674276970384798,\"moving-avg\":0.12124576934536693},{\"date\":\"2000-07-28T00:00:00.000Z\",\"avg-sentiment\":0.13275897068050418,\"moving-avg\":0.12135831559484873},{\"date\":\"2000-07-29T00:00:00.000Z\",\"avg-sentiment\":0.10822869499557113,\"moving-avg\":0.12019582464917891},{\"date\":\"2000-07-30T00:00:00.000Z\",\"avg-sentiment\":0.1947308117016533,\"moving-avg\":0.1211746075620462},{\"date\":\"2000-07-31T00:00:00.000Z\",\"avg-sentiment\":0.12699937934423833,\"moving-avg\":0.11944360560254977},{\"date\":\"2000-08-01T00:00:00.000Z\",\"avg-sentiment\":0.15883196086540527,\"moving-avg\":0.11871800421779569},{\"date\":\"2000-08-02T00:00:00.000Z\",\"avg-sentiment\":0.10458932935903308,\"moving-avg\":0.13131098203952654},{\"date\":\"2000-08-03T00:00:00.000Z\",\"avg-sentiment\":0.16316391980982878,\"moving-avg\":0.13393748780893067},{\"date\":\"2000-08-04T00:00:00.000Z\",\"avg-sentiment\":0.12056141964522593,\"moving-avg\":0.1348338025563039},{\"date\":\"2000-08-05T00:00:00.000Z\",\"avg-sentiment\":0.0,\"moving-avg\":0.13036379463373785},{\"date\":\"2000-08-06T00:00:00.000Z\",\"avg-sentiment\":0.10102102626368013,\"moving-avg\":0.12897256019887762},{\"date\":\"2000-08-07T00:00:00.000Z\",\"avg-sentiment\":0.1464514665982588,\"moving-avg\":0.12710751528098202},{\"date\":\"2000-08-08T00:00:00.000Z\",\"avg-sentiment\":0.17108359610610138,\"moving-avg\":0.12910014306022316},{\"date\":\"2000-08-09T00:00:00.000Z\",\"avg-sentiment\":0.10867101781743109,\"moving-avg\":0.12792563140093535},{\"date\":\"2000-08-10T00:00:00.000Z\",\"avg-sentiment\":0.11992783275175459,\"moving-avg\":0.1280274310343074},{\"date\":\"2000-08-11T00:00:00.000Z\",\"avg-sentiment\":0.11261714746012703,\"moving-avg\":0.1281753804299793},{\"date\":\"2000-08-12T00:00:00.000Z\",\"avg-sentiment\":0.5267000198364258,\"moving-avg\":0.14232475561659622},{\"date\":\"2000-08-13T00:00:00.000Z\",\"avg-sentiment\":0.02584461685777124,\"moving-avg\":0.1388294778526685},{\"date\":\"2000-08-14T00:00:00.000Z\",\"avg-sentiment\":0.10864469420435449,\"moving-avg\":0.13778727081591402},{\"date\":\"2000-08-15T00:00:00.000Z\",\"avg-sentiment\":0.09793779003627223,\"moving-avg\":0.13708964157874137},{\"date\":\"2000-08-16T00:00:00.000Z\",\"avg-sentiment\":0.1212079835709261,\"moving-avg\":0.137166239324854},{\"date\":\"2000-08-17T00:00:00.000Z\",\"avg-sentiment\":0.13364325687502585,\"moving-avg\":0.13785073259180672},{\"date\":\"2000-08-18T00:00:00.000Z\",\"avg-sentiment\":0.08611746212789398,\"moving-avg\":0.1379378430244656},{\"date\":\"2000-08-19T00:00:00.000Z\",\"avg-sentiment\":0.09904285573533603,\"moving-avg\":0.13646462930513933},{\"date\":\"2000-08-20T00:00:00.000Z\",\"avg-sentiment\":0.09542648711552222,\"moving-avg\":0.13604083921158014},{\"date\":\"2000-08-21T00:00:00.000Z\",\"avg-sentiment\":0.10087267633396746,\"moving-avg\":0.13307659524031126},{\"date\":\"2000-08-22T00:00:00.000Z\",\"avg-sentiment\":0.1180598227588188,\"moving-avg\":0.13121974405368547},{\"date\":\"2000-08-23T00:00:00.000Z\",\"avg-sentiment\":0.129532425864805,\"moving-avg\":0.13125649610291232},{\"date\":\"2000-08-24T00:00:00.000Z\",\"avg-sentiment\":0.14375707680683406,\"moving-avg\":0.1313853928354959},{\"date\":\"2000-08-25T00:00:00.000Z\",\"avg-sentiment\":0.12701451183682022,\"moving-avg\":0.1310060341021145},{\"date\":\"2000-08-26T00:00:00.000Z\",\"avg-sentiment\":0.1999407151181783,\"moving-avg\":0.13277929894925883},{\"date\":\"2000-08-27T00:00:00.000Z\",\"avg-sentiment\":0.1483450745091294,\"moving-avg\":0.13329883574354637},{\"date\":\"2000-08-28T00:00:00.000Z\",\"avg-sentiment\":0.11861428274826807,\"moving-avg\":0.1336450220019696},{\"date\":\"2000-08-29T00:00:00.000Z\",\"avg-sentiment\":0.13420562644430145,\"moving-avg\":0.13162751582672452},{\"date\":\"2000-08-30T00:00:00.000Z\",\"avg-sentiment\":0.09325933775823587,\"moving-avg\":0.13050284777385776},{\"date\":\"2000-08-31T00:00:00.000Z\",\"avg-sentiment\":0.08992520028374251,\"moving-avg\":0.128205955754469},{\"date\":\"2000-09-01T00:00:00.000Z\",\"avg-sentiment\":0.09573288386873917,\"moving-avg\":0.1279107409047925},{\"date\":\"2000-09-02T00:00:00.000Z\",\"avg-sentiment\":-0.0013852459811122039,\"moving-avg\":0.12242576871176117},{\"date\":\"2000-09-04T00:00:00.000Z\",\"avg-sentiment\":0.07714583240449428,\"moving-avg\":0.12097858247040344},{\"date\":\"2000-09-05T00:00:00.000Z\",\"avg-sentiment\":0.0891085114921356,\"moving-avg\":0.12394886618680796},{\"date\":\"2000-09-06T00:00:00.000Z\",\"avg-sentiment\":0.1331946366684856,\"moving-avg\":0.12502131986696813},{\"date\":\"2000-09-07T00:00:00.000Z\",\"avg-sentiment\":0.1414475943985128,\"moving-avg\":0.1248545241269766},{\"date\":\"2000-09-08T00:00:00.000Z\",\"avg-sentiment\":0.10810182605257626,\"moving-avg\":0.1227551317918591},{\"date\":\"2000-09-09T00:00:00.000Z\",\"avg-sentiment\":0.09289999802907307,\"moving-avg\":0.12222943113224716},{\"date\":\"2000-09-10T00:00:00.000Z\",\"avg-sentiment\":0.07784376050185263,\"moving-avg\":0.1208266287239171},{\"date\":\"2000-09-11T00:00:00.000Z\",\"avg-sentiment\":0.1372477183668855,\"moving-avg\":0.12164764775414239},{\"date\":\"2000-09-12T00:00:00.000Z\",\"avg-sentiment\":0.15287730400024996,\"moving-avg\":0.1091868905596032},{\"date\":\"2000-09-13T00:00:00.000Z\",\"avg-sentiment\":0.11917192198143846,\"moving-avg\":0.11229780073039211},{\"date\":\"2000-09-14T00:00:00.000Z\",\"avg-sentiment\":0.0871885697500112,\"moving-avg\":0.111582596581914},{\"date\":\"2000-09-15T00:00:00.000Z\",\"avg-sentiment\":0.12109236664159957,\"moving-avg\":0.11235441580209157},{\"date\":\"2000-09-17T00:00:00.000Z\",\"avg-sentiment\":0.20895467172672474,\"moving-avg\":0.11527930540728487},{\"date\":\"2000-09-18T00:00:00.000Z\",\"avg-sentiment\":0.11149050809102122,\"moving-avg\":0.11454088044781804},{\"date\":\"2000-09-19T00:00:00.000Z\",\"avg-sentiment\":0.10967429896150714,\"moving-avg\":0.11532610834227182},{\"date\":\"2000-09-20T00:00:00.000Z\",\"avg-sentiment\":0.128530466528547,\"moving-avg\":0.1163090287020455},{\"date\":\"2000-09-21T00:00:00.000Z\",\"avg-sentiment\":0.11297886382139398,\"moving-avg\":0.11689410792557456},{\"date\":\"2000-09-22T00:00:00.000Z\",\"avg-sentiment\":0.13465716605205136,\"moving-avg\":0.11802025758284403},{\"date\":\"2000-09-23T00:00:00.000Z\",\"avg-sentiment\":0.5104499906301498,\"moving-avg\":0.13109992984522173},{\"date\":\"2000-09-24T00:00:00.000Z\",\"avg-sentiment\":0.1065652784374025,\"moving-avg\":0.13033435826430834},{\"date\":\"2000-09-25T00:00:00.000Z\",\"avg-sentiment\":0.1427719737009151,\"moving-avg\":0.13030152149411103},{\"date\":\"2000-09-26T00:00:00.000Z\",\"avg-sentiment\":0.12719319454703315,\"moving-avg\":0.13030747758445146},{\"date\":\"2000-09-27T00:00:00.000Z\",\"avg-sentiment\":0.11450799539782298,\"moving-avg\":0.1274597202604396},{\"date\":\"2000-09-28T00:00:00.000Z\",\"avg-sentiment\":0.12709605374395624,\"moving-avg\":0.1267514195682672},{\"date\":\"2000-09-29T00:00:00.000Z\",\"avg-sentiment\":0.1327220074741005,\"moving-avg\":0.12722167705912826},{\"date\":\"2000-09-30T00:00:00.000Z\",\"avg-sentiment\":-0.0994333333025376,\"moving-avg\":0.11943371173423364},{\"date\":\"2000-10-01T00:00:00.000Z\",\"avg-sentiment\":0.22987708263099194,\"moving-avg\":0.12398763656332551},{\"date\":\"2000-10-02T00:00:00.000Z\",\"avg-sentiment\":0.15800175033124683,\"moving-avg\":0.12625685489824232},{\"date\":\"2000-10-03T00:00:00.000Z\",\"avg-sentiment\":0.10864432548803812,\"moving-avg\":0.12668723628555228},{\"date\":\"2000-10-04T00:00:00.000Z\",\"avg-sentiment\":0.1253032214397413,\"moving-avg\":0.13091018519958075},{\"date\":\"2000-10-05T00:00:00.000Z\",\"avg-sentiment\":0.09012036822755402,\"moving-avg\":0.13134266972701605},{\"date\":\"2000-10-06T00:00:00.000Z\",\"avg-sentiment\":0.12409469509859702,\"moving-avg\":0.13250887584723142},{\"date\":\"2000-10-07T00:00:00.000Z\",\"avg-sentiment\":0.20229999721050262,\"moving-avg\":0.13481238786529867},{\"date\":\"2000-10-08T00:00:00.000Z\",\"avg-sentiment\":0.12312500118421728,\"moving-avg\":0.1342016347581555},{\"date\":\"2000-10-09T00:00:00.000Z\",\"avg-sentiment\":0.139592664787681,\"moving-avg\":0.135251329382659},{\"date\":\"2000-10-10T00:00:00.000Z\",\"avg-sentiment\":0.1391482903417379,\"moving-avg\":0.1367929391264145},{\"date\":\"2000-10-11T00:00:00.000Z\",\"avg-sentiment\":0.10253919615684613,\"moving-avg\":0.13761612031491427},{\"date\":\"2000-10-12T00:00:00.000Z\",\"avg-sentiment\":0.1711826290002958,\"moving-avg\":0.1387472840026946},{\"date\":\"2000-10-13T00:00:00.000Z\",\"avg-sentiment\":0.11442980155274304,\"moving-avg\":0.13746570058777766},{\"date\":\"2000-10-14T00:00:00.000Z\",\"avg-sentiment\":0.06012777920836717,\"moving-avg\":0.13549756249534195},{\"date\":\"2000-10-15T00:00:00.000Z\",\"avg-sentiment\":0.04977684631200009,\"moving-avg\":0.13425050504740826},{\"date\":\"2000-10-16T00:00:00.000Z\",\"avg-sentiment\":0.14190203129574933,\"moving-avg\":0.13494416053587993},{\"date\":\"2000-10-17T00:00:00.000Z\",\"avg-sentiment\":0.13583760645646206,\"moving-avg\":0.13250692502687117},{\"date\":\"2000-10-18T00:00:00.000Z\",\"avg-sentiment\":0.1621754757504864,\"moving-avg\":0.1341964239488533},{\"date\":\"2000-10-19T00:00:00.000Z\",\"avg-sentiment\":0.12260739118730397,\"moving-avg\":0.13462752702304656},{\"date\":\"2000-10-20T00:00:00.000Z\",\"avg-sentiment\":0.1414488950430878,\"moving-avg\":0.13505814130686458},{\"date\":\"2000-10-21T00:00:00.000Z\",\"avg-sentiment\":-0.00778931687605016,\"moving-avg\":0.13103253528361644},{\"date\":\"2000-10-22T00:00:00.000Z\",\"avg-sentiment\":0.06788858624511014,\"moving-avg\":0.1288069159567184},{\"date\":\"2000-10-23T00:00:00.000Z\",\"avg-sentiment\":0.16928487392281327,\"moving-avg\":0.11743474539980721},{\"date\":\"2000-10-24T00:00:00.000Z\",\"avg-sentiment\":0.14149751105068864,\"moving-avg\":0.11859915315358342},{\"date\":\"2000-10-25T00:00:00.000Z\",\"avg-sentiment\":0.12617120041893629,\"moving-avg\":0.11804579404418412},{\"date\":\"2000-10-26T00:00:00.000Z\",\"avg-sentiment\":0.13508965744551443,\"moving-avg\":0.11830900947413349},{\"date\":\"2000-10-27T00:00:00.000Z\",\"avg-sentiment\":0.09974098195328229,\"moving-avg\":0.11781677569264878},{\"date\":\"2000-10-28T00:00:00.000Z\",\"avg-sentiment\":0.15728672869424154,\"moving-avg\":0.11882313152432496},{\"date\":\"2000-10-29T00:00:00.000Z\",\"avg-sentiment\":0.15201428093548333,\"moving-avg\":0.11946620730637104},{\"date\":\"2000-10-30T00:00:00.000Z\",\"avg-sentiment\":0.1225410040067023,\"moving-avg\":0.12686535188334572},{\"date\":\"2000-10-31T00:00:00.000Z\",\"avg-sentiment\":0.10457743721521255,\"moving-avg\":0.12268869703615307},{\"date\":\"2000-11-01T00:00:00.000Z\",\"avg-sentiment\":0.09271905694130879,\"moving-avg\":0.12051260725648845},{\"date\":\"2000-11-02T00:00:00.000Z\",\"avg-sentiment\":0.13572007855638551,\"moving-avg\":0.1214151323587667},{\"date\":\"2000-11-03T00:00:00.000Z\",\"avg-sentiment\":0.15424011019836611,\"moving-avg\":0.12237969531738754},{\"date\":\"2000-11-05T00:00:00.000Z\",\"avg-sentiment\":0.1889701196310046,\"moving-avg\":0.1256746870308359},{\"date\":\"2000-11-06T00:00:00.000Z\",\"avg-sentiment\":0.13505201865513639,\"moving-avg\":0.12603993114938722},{\"date\":\"2000-11-07T00:00:00.000Z\",\"avg-sentiment\":0.10395763226160139,\"moving-avg\":0.12276185231775717},{\"date\":\"2000-11-08T00:00:00.000Z\",\"avg-sentiment\":0.1357073041330712,\"moving-avg\":0.1231812624160523},{\"date\":\"2000-11-09T00:00:00.000Z\",\"avg-sentiment\":0.17148232751221462,\"moving-avg\":0.12424425117353675},{\"date\":\"2000-11-10T00:00:00.000Z\",\"avg-sentiment\":0.11818056362416528,\"moving-avg\":0.12354532694961767},{\"date\":\"2000-11-11T00:00:00.000Z\",\"avg-sentiment\":0.0873250039294362,\"moving-avg\":0.12303818720870402},{\"date\":\"2000-11-12T00:00:00.000Z\",\"avg-sentiment\":0.1891061330855971,\"moving-avg\":0.12363563734488074},{\"date\":\"2000-11-13T00:00:00.000Z\",\"avg-sentiment\":0.11123352279094591,\"moving-avg\":0.1235290947194875},{\"date\":\"2000-11-14T00:00:00.000Z\",\"avg-sentiment\":0.1376937708544332,\"moving-avg\":0.12611462777435636},{\"date\":\"2000-11-15T00:00:00.000Z\",\"avg-sentiment\":0.0938353003029485,\"moving-avg\":0.127583242907388},{\"date\":\"2000-11-16T00:00:00.000Z\",\"avg-sentiment\":0.10721468965838399,\"moving-avg\":0.1264269981861425},{\"date\":\"2000-11-17T00:00:00.000Z\",\"avg-sentiment\":0.1036198423500373,\"moving-avg\":0.12535307271592833},{\"date\":\"2000-11-18T00:00:00.000Z\",\"avg-sentiment\":0.035959071853754736,\"moving-avg\":0.12114585925270394},{\"date\":\"2000-11-19T00:00:00.000Z\",\"avg-sentiment\":0.21147633125111928,\"moving-avg\":0.1241081572548311},{\"date\":\"2000-11-20T00:00:00.000Z\",\"avg-sentiment\":0.12248170510221797,\"moving-avg\":0.12347591759013544},{\"date\":\"2000-11-21T00:00:00.000Z\",\"avg-sentiment\":0.1290400562212453,\"moving-avg\":0.12803689669337862},{\"date\":\"2000-11-22T00:00:00.000Z\",\"avg-sentiment\":0.13585386088784002,\"moving-avg\":0.1303024058481363},{\"date\":\"2000-11-23T00:00:00.000Z\",\"avg-sentiment\":0.22020000219345093,\"moving-avg\":0.13199957679049085},{\"date\":\"2000-11-25T00:00:00.000Z\",\"avg-sentiment\":0.05140714152228264,\"moving-avg\":0.12899656447287733},{\"date\":\"2000-11-26T00:00:00.000Z\",\"avg-sentiment\":0.03528318590662926,\"moving-avg\":0.12596696398913376},{\"date\":\"2000-11-27T00:00:00.000Z\",\"avg-sentiment\":0.15107696929794306,\"moving-avg\":0.1264998743842147},{\"date\":\"2000-11-28T00:00:00.000Z\",\"avg-sentiment\":0.13848691762624651,\"moving-avg\":0.1277914055733135},{\"date\":\"2000-11-29T00:00:00.000Z\",\"avg-sentiment\":0.11146892636059198,\"moving-avg\":0.1262641454955252},{\"date\":\"2000-11-30T00:00:00.000Z\",\"avg-sentiment\":0.10070196642552204,\"moving-avg\":0.12455373501185983},{\"date\":\"2000-12-01T00:00:00.000Z\",\"avg-sentiment\":0.10742596994650927,\"moving-avg\":0.12404990054318674},{\"date\":\"2000-12-02T00:00:00.000Z\",\"avg-sentiment\":0.07706728115392075,\"moving-avg\":0.12313289534114366},{\"date\":\"2000-12-03T00:00:00.000Z\",\"avg-sentiment\":0.15992895498595858,\"moving-avg\":0.1253732252759653},{\"date\":\"2000-12-04T00:00:00.000Z\",\"avg-sentiment\":0.11511476462877859,\"moving-avg\":0.12468638147837845},{\"date\":\"2000-12-05T00:00:00.000Z\",\"avg-sentiment\":0.12752169503129554,\"moving-avg\":0.12379576763947607},{\"date\":\"2000-12-06T00:00:00.000Z\",\"avg-sentiment\":0.15551035171902217,\"moving-avg\":0.12268044204240998},{\"date\":\"2000-12-07T00:00:00.000Z\",\"avg-sentiment\":0.11159052148956795,\"moving-avg\":0.12189839213689105},{\"date\":\"2000-12-08T00:00:00.000Z\",\"avg-sentiment\":0.1389036993706188,\"moving-avg\":0.12306326104052495},{\"date\":\"2000-12-09T00:00:00.000Z\",\"avg-sentiment\":0.13440303561676825,\"moving-avg\":0.12301978542331486},{\"date\":\"2000-12-10T00:00:00.000Z\",\"avg-sentiment\":0.05629780623267117,\"moving-avg\":0.1191803013806634},{\"date\":\"2000-12-11T00:00:00.000Z\",\"avg-sentiment\":0.12416986990000185,\"moving-avg\":0.11937994492319129},{\"date\":\"2000-12-12T00:00:00.000Z\",\"avg-sentiment\":0.13141807856010215,\"moving-avg\":0.12084971407754681},{\"date\":\"2000-12-13T00:00:00.000Z\",\"avg-sentiment\":0.1245687899458935,\"moving-avg\":0.11869846930622335},{\"date\":\"2000-12-14T00:00:00.000Z\",\"avg-sentiment\":0.1283909458711409,\"moving-avg\":0.11927038340889652},{\"date\":\"2000-12-15T00:00:00.000Z\",\"avg-sentiment\":0.1147026978239236,\"moving-avg\":0.11850401430787952},{\"date\":\"2000-12-17T00:00:00.000Z\",\"avg-sentiment\":0.2410112626814612,\"moving-avg\":0.12340987972049662},{\"date\":\"2000-12-18T00:00:00.000Z\",\"avg-sentiment\":0.12155080841636938,\"moving-avg\":0.12388775034576278},{\"date\":\"2000-12-19T00:00:00.000Z\",\"avg-sentiment\":0.13824916487324915,\"moving-avg\":0.12504206109653657},{\"date\":\"2000-12-20T00:00:00.000Z\",\"avg-sentiment\":0.126669488936177,\"moving-avg\":0.12806574166595064},{\"date\":\"2000-12-21T00:00:00.000Z\",\"avg-sentiment\":0.1262684471427232,\"moving-avg\":0.12522547886233742},{\"date\":\"2000-12-22T00:00:00.000Z\",\"avg-sentiment\":0.15468665613107377,\"moving-avg\":0.126298977229966},{\"date\":\"2000-12-23T00:00:00.000Z\",\"avg-sentiment\":0.14929999907811484,\"moving-avg\":0.1269743086585283},{\"date\":\"2000-12-24T00:00:00.000Z\",\"avg-sentiment\":0.13180624941984811,\"moving-avg\":0.1268393882762619},{\"date\":\"2000-12-25T00:00:00.000Z\",\"avg-sentiment\":-0.029821427095504033,\"moving-avg\":0.11850534063329674},{\"date\":\"2000-12-26T00:00:00.000Z\",\"avg-sentiment\":0.08976741383473077,\"moving-avg\":0.11978401637704499},{\"date\":\"2000-12-27T00:00:00.000Z\",\"avg-sentiment\":0.14519334599370623,\"moving-avg\":0.12344768837994755},{\"date\":\"2000-12-28T00:00:00.000Z\",\"avg-sentiment\":0.11937455525987373,\"moving-avg\":0.12239094124534523},{\"date\":\"2000-12-29T00:00:00.000Z\",\"avg-sentiment\":0.12186501152060268,\"moving-avg\":0.12183687770849044},{\"date\":\"2001-01-01T00:00:00.000Z\",\"avg-sentiment\":0.07146564772941466,\"moving-avg\":0.1205034350874512},{\"date\":\"2001-01-02T00:00:00.000Z\",\"avg-sentiment\":0.13664803904282707,\"moving-avg\":0.12170163750802804},{\"date\":\"2001-01-03T00:00:00.000Z\",\"avg-sentiment\":0.13041733296171887,\"moving-avg\":0.12246801627520168},{\"date\":\"2001-01-04T00:00:00.000Z\",\"avg-sentiment\":0.11580198627045021,\"moving-avg\":0.12375917311241934},{\"date\":\"2001-01-05T00:00:00.000Z\",\"avg-sentiment\":0.14861698847674876,\"moving-avg\":0.12338210756211235},{\"date\":\"2001-01-07T00:00:00.000Z\",\"avg-sentiment\":-0.07391110807657242,\"moving-avg\":0.11708124513860062},{\"date\":\"2001-01-08T00:00:00.000Z\",\"avg-sentiment\":0.15501148949325802,\"moving-avg\":0.11799757162066604},{\"date\":\"2001-01-09T00:00:00.000Z\",\"avg-sentiment\":0.11105605824508283,\"moving-avg\":0.11651576183820139},{\"date\":\"2001-01-10T00:00:00.000Z\",\"avg-sentiment\":0.11144580197403031,\"moving-avg\":0.11651093785435013},{\"date\":\"2001-01-11T00:00:00.000Z\",\"avg-sentiment\":0.1279225459496986,\"moving-avg\":0.11614489940698615},{\"date\":\"2001-01-12T00:00:00.000Z\",\"avg-sentiment\":0.14162950458096907,\"moving-avg\":0.11638578170579285},{\"date\":\"2001-01-13T00:00:00.000Z\",\"avg-sentiment\":0.1861013723629763,\"moving-avg\":0.12071256724346967},{\"date\":\"2001-01-14T00:00:00.000Z\",\"avg-sentiment\":0.15221043295260905,\"moving-avg\":0.1216472526785566},{\"date\":\"2001-01-15T00:00:00.000Z\",\"avg-sentiment\":0.16607112316042594,\"moving-avg\":0.12280235416523405},{\"date\":\"2001-01-16T00:00:00.000Z\",\"avg-sentiment\":0.16359077154456275,\"moving-avg\":0.12410308688518969},{\"date\":\"2001-01-17T00:00:00.000Z\",\"avg-sentiment\":0.11987119663561181,\"moving-avg\":0.12381909524400538},{\"date\":\"2001-01-18T00:00:00.000Z\",\"avg-sentiment\":0.10881038723578167,\"moving-avg\":0.12362268489106731},{\"date\":\"2001-01-19T00:00:00.000Z\",\"avg-sentiment\":0.13559659848011282,\"moving-avg\":0.12010886275102237},{\"date\":\"2001-01-20T00:00:00.000Z\",\"avg-sentiment\":0.12860645552515668,\"moving-avg\":0.12034405098798191},{\"date\":\"2001-01-21T00:00:00.000Z\",\"avg-sentiment\":0.0,\"moving-avg\":0.11573574549220696},{\"date\":\"2001-01-22T00:00:00.000Z\",\"avg-sentiment\":0.11841626006680232,\"moving-avg\":0.11546063786322779},{\"date\":\"2001-01-23T00:00:00.000Z\",\"avg-sentiment\":0.14439192551098978,\"moving-avg\":0.11606475380883668},{\"date\":\"2001-01-24T00:00:00.000Z\",\"avg-sentiment\":0.11648870112395313,\"moving-avg\":0.11479148864193266},{\"date\":\"2001-01-25T00:00:00.000Z\",\"avg-sentiment\":0.12032715937480758,\"moving-avg\":0.11382572731848908},{\"date\":\"2001-01-26T00:00:00.000Z\",\"avg-sentiment\":0.07030848878761654,\"moving-avg\":0.11177580196408136},{\"date\":\"2001-01-28T00:00:00.000Z\",\"avg-sentiment\":0.19515294318690019,\"moving-avg\":0.11927494764016151},{\"date\":\"2001-01-29T00:00:00.000Z\",\"avg-sentiment\":0.13446432823607207,\"moving-avg\":0.1207648447868729},{\"date\":\"2001-01-30T00:00:00.000Z\",\"avg-sentiment\":0.09391148487622826,\"moving-avg\":0.1190554494162903},{\"date\":\"2001-01-31T00:00:00.000Z\",\"avg-sentiment\":0.1136452198426031,\"moving-avg\":0.11886447156904795},{\"date\":\"2001-02-01T00:00:00.000Z\",\"avg-sentiment\":0.14025502847192833,\"moving-avg\":0.11947747213409213},{\"date\":\"2001-02-02T00:00:00.000Z\",\"avg-sentiment\":0.137909147528887,\"moving-avg\":0.12169225546074121},{\"date\":\"2001-02-03T00:00:00.000Z\",\"avg-sentiment\":0.18817926573729704,\"moving-avg\":0.12340996301722355},{\"date\":\"2001-02-04T00:00:00.000Z\",\"avg-sentiment\":0.11270774265733247,\"moving-avg\":0.12281964334041068},{\"date\":\"2001-02-05T00:00:00.000Z\",\"avg-sentiment\":0.13899789022989795,\"moving-avg\":0.12359284013905893},{\"date\":\"2001-02-06T00:00:00.000Z\",\"avg-sentiment\":0.10685622312753992,\"moving-avg\":0.12220081462741865},{\"date\":\"2001-02-07T00:00:00.000Z\",\"avg-sentiment\":0.08790151685284701,\"moving-avg\":0.12759456879173264},{\"date\":\"2001-02-08T00:00:00.000Z\",\"avg-sentiment\":0.14928576325633203,\"moving-avg\":0.12740371125050176},{\"date\":\"2001-02-09T00:00:00.000Z\",\"avg-sentiment\":0.1398032882977754,\"moving-avg\":0.1283619522522582},{\"date\":\"2001-02-10T00:00:00.000Z\",\"avg-sentiment\":0.0,\"moving-avg\":0.12464709218645717},{\"date\":\"2001-02-11T00:00:00.000Z\",\"avg-sentiment\":0.12957074092356144,\"moving-avg\":0.12470203201891926},{\"date\":\"2001-02-12T00:00:00.000Z\",\"avg-sentiment\":0.11561837535921161,\"moving-avg\":0.12383499437819402},{\"date\":\"2001-02-13T00:00:00.000Z\",\"avg-sentiment\":0.13005782067652524,\"moving-avg\":0.12196687598864564},{\"date\":\"2001-02-14T00:00:00.000Z\",\"avg-sentiment\":0.13227336283141422,\"moving-avg\":0.12130230698460581},{\"date\":\"2001-02-15T00:00:00.000Z\",\"avg-sentiment\":0.11260840342198825,\"moving-avg\":0.11952021632665791},{\"date\":\"2001-02-16T00:00:00.000Z\",\"avg-sentiment\":0.12995009473478297,\"moving-avg\":0.11839886043299859},{\"date\":\"2001-02-17T00:00:00.000Z\",\"avg-sentiment\":0.11276540798875649,\"moving-avg\":0.11816200081143675},{\"date\":\"2001-02-18T00:00:00.000Z\",\"avg-sentiment\":0.0281132478107754,\"moving-avg\":0.11547209616393653},{\"date\":\"2001-02-19T00:00:00.000Z\",\"avg-sentiment\":0.1124357341187051,\"moving-avg\":0.11470006735188959},{\"date\":\"2001-02-20T00:00:00.000Z\",\"avg-sentiment\":0.12388129244000608,\"moving-avg\":0.11454256191571789},{\"date\":\"2001-02-21T00:00:00.000Z\",\"avg-sentiment\":0.14791488763872657,\"moving-avg\":0.11947305817034211},{\"date\":\"2001-02-22T00:00:00.000Z\",\"avg-sentiment\":0.1460591455206313,\"moving-avg\":0.12039448768546973},{\"date\":\"2001-02-23T00:00:00.000Z\",\"avg-sentiment\":0.11910917925726656,\"moving-avg\":0.1195517294770123},{\"date\":\"2001-02-24T00:00:00.000Z\",\"avg-sentiment\":0.10362473805839721,\"moving-avg\":0.11912293070816043},{\"date\":\"2001-02-25T00:00:00.000Z\",\"avg-sentiment\":0.15111506103457492,\"moving-avg\":0.12014919409681935},{\"date\":\"2001-02-26T00:00:00.000Z\",\"avg-sentiment\":0.11416174684915896,\"moving-avg\":0.12161096936553743},{\"date\":\"2001-02-27T00:00:00.000Z\",\"avg-sentiment\":0.1283063995187056,\"moving-avg\":0.11938275124326428},{\"date\":\"2001-02-28T00:00:00.000Z\",\"avg-sentiment\":0.0893514491726526,\"moving-avg\":0.11787898860781695},{\"date\":\"2001-03-01T00:00:00.000Z\",\"avg-sentiment\":0.10292308612025419,\"moving-avg\":0.11817937531595116},{\"date\":\"2001-03-02T00:00:00.000Z\",\"avg-sentiment\":0.09171043543317087,\"moving-avg\":0.11744821583563675},{\"date\":\"2001-03-03T00:00:00.000Z\",\"avg-sentiment\":0.09647667015586993,\"moving-avg\":0.11598893722510147},{\"date\":\"2001-03-04T00:00:00.000Z\",\"avg-sentiment\":0.1328886656829165,\"moving-avg\":0.11582158783023579},{\"date\":\"2001-03-05T00:00:00.000Z\",\"avg-sentiment\":0.0851498614543449,\"moving-avg\":0.1123872743541374},{\"date\":\"2001-03-06T00:00:00.000Z\",\"avg-sentiment\":0.11438662557056122,\"moving-avg\":0.1124432371179117},{\"date\":\"2001-03-07T00:00:00.000Z\",\"avg-sentiment\":0.12505499244794677,\"moving-avg\":0.11197847385851331},{\"date\":\"2001-03-08T00:00:00.000Z\",\"avg-sentiment\":0.16252980973260137,\"moving-avg\":0.11383426007868205},{\"date\":\"2001-03-09T00:00:00.000Z\",\"avg-sentiment\":0.14214159244649757,\"moving-avg\":0.1156422625984704},{\"date\":\"2001-03-10T00:00:00.000Z\",\"avg-sentiment\":0.1701032085320005,\"moving-avg\":0.11633617744099269},{\"date\":\"2001-03-11T00:00:00.000Z\",\"avg-sentiment\":-0.0010857153683900833,\"moving-avg\":0.11163987731878716},{\"date\":\"2001-03-12T00:00:00.000Z\",\"avg-sentiment\":0.10673670682701514,\"moving-avg\":0.11519776754635433},{\"date\":\"2001-03-13T00:00:00.000Z\",\"avg-sentiment\":0.10816187533736633,\"moving-avg\":0.11448413869348117},{\"date\":\"2001-03-14T00:00:00.000Z\",\"avg-sentiment\":0.12148486875544569,\"moving-avg\":0.11467968847335565},{\"date\":\"2001-03-15T00:00:00.000Z\",\"avg-sentiment\":0.08977298398463268,\"moving-avg\":0.1133368605836259},{\"date\":\"2001-03-16T00:00:00.000Z\",\"avg-sentiment\":0.14810797147891974,\"moving-avg\":0.1138646808718761},{\"date\":\"2001-03-17T00:00:00.000Z\",\"avg-sentiment\":0.47116666038831073,\"moving-avg\":0.12581662277075348},{\"date\":\"2001-03-18T00:00:00.000Z\",\"avg-sentiment\":0.022981818426739086,\"moving-avg\":0.12225101356048536},{\"date\":\"2001-03-19T00:00:00.000Z\",\"avg-sentiment\":0.14250231173893532,\"moving-avg\":0.12324224368549135},{\"date\":\"2001-03-20T00:00:00.000Z\",\"avg-sentiment\":0.09017012057804584,\"moving-avg\":0.12531080611106699},{\"date\":\"2001-03-21T00:00:00.000Z\",\"avg-sentiment\":0.11852795058791397,\"moving-avg\":0.12551387999337396},{\"date\":\"2001-03-22T00:00:00.000Z\",\"avg-sentiment\":0.11794176081962278,\"moving-avg\":0.12531589560602782},{\"date\":\"2001-03-23T00:00:00.000Z\",\"avg-sentiment\":0.11871309517397005,\"moving-avg\":0.1243425025238693},{\"date\":\"2001-03-24T00:00:00.000Z\",\"avg-sentiment\":0.17648469117260165,\"moving-avg\":0.12535668737893496},{\"date\":\"2001-03-25T00:00:00.000Z\",\"avg-sentiment\":0.10851949019656731,\"moving-avg\":0.1250036977435783},{\"date\":\"2001-03-26T00:00:00.000Z\",\"avg-sentiment\":0.12875246768372095,\"moving-avg\":0.1258412887310891},{\"date\":\"2001-03-27T00:00:00.000Z\",\"avg-sentiment\":0.17832952163316543,\"moving-avg\":0.12674843741770878},{\"date\":\"2001-03-28T00:00:00.000Z\",\"avg-sentiment\":0.1028394331572896,\"moving-avg\":0.12637102696131314},{\"date\":\"2001-03-29T00:00:00.000Z\",\"avg-sentiment\":0.11186303282711134,\"moving-avg\":0.12582291473826},{\"date\":\"2001-03-30T00:00:00.000Z\",\"avg-sentiment\":0.14498010985200466,\"moving-avg\":0.12767720342757174},{\"date\":\"2001-03-31T00:00:00.000Z\",\"avg-sentiment\":0.1825347936192569,\"moving-avg\":0.13033092701087182},{\"date\":\"2001-04-01T00:00:00.000Z\",\"avg-sentiment\":0.14392144879520072,\"moving-avg\":0.1320712941229395},{\"date\":\"2001-04-02T00:00:00.000Z\",\"avg-sentiment\":0.16409751234829006,\"moving-avg\":0.13432532219602017},{\"date\":\"2001-04-03T00:00:00.000Z\",\"avg-sentiment\":0.16130308238819605,\"moving-avg\":0.13527246941952947},{\"date\":\"2001-04-04T00:00:00.000Z\",\"avg-sentiment\":0.12849404602405617,\"moving-avg\":0.13671727557185318},{\"date\":\"2001-04-05T00:00:00.000Z\",\"avg-sentiment\":0.1254104719324783,\"moving-avg\":0.13708473711725042},{\"date\":\"2001-04-06T00:00:00.000Z\",\"avg-sentiment\":0.14149101552761972,\"moving-avg\":0.1376326045532395},{\"date\":\"2001-04-07T00:00:00.000Z\",\"avg-sentiment\":0.053893518392686496,\"moving-avg\":0.13401139484190902},{\"date\":\"2001-04-08T00:00:00.000Z\",\"avg-sentiment\":-0.14562262248780047,\"moving-avg\":0.12441925434409909},{\"date\":\"2001-04-09T00:00:00.000Z\",\"avg-sentiment\":0.11583533546160028,\"moving-avg\":0.12261032524175243},{\"date\":\"2001-04-10T00:00:00.000Z\",\"avg-sentiment\":0.1265170259026889,\"moving-avg\":0.1268637499507884},{\"date\":\"2001-04-11T00:00:00.000Z\",\"avg-sentiment\":0.1228428832293383,\"moving-avg\":0.1274006224975325},{\"date\":\"2001-04-12T00:00:00.000Z\",\"avg-sentiment\":0.1352958298476824,\"moving-avg\":0.12830508764787638},{\"date\":\"2001-04-13T00:00:00.000Z\",\"avg-sentiment\":0.09873862837140358,\"moving-avg\":0.127546879635075},{\"date\":\"2001-04-14T00:00:00.000Z\",\"avg-sentiment\":0.23132500052452087,\"moving-avg\":0.1322652801864046},{\"date\":\"2001-04-15T00:00:00.000Z\",\"avg-sentiment\":0.10336444247325863,\"moving-avg\":0.13077382921954922},{\"date\":\"2001-04-16T00:00:00.000Z\",\"avg-sentiment\":0.13353810362662527,\"moving-avg\":0.1195195439941597},{\"date\":\"2001-04-17T00:00:00.000Z\",\"avg-sentiment\":0.1486759688799182,\"moving-avg\":0.12370934900926568},{\"date\":\"2001-04-18T00:00:00.000Z\",\"avg-sentiment\":0.15174395315572575,\"moving-avg\":0.12401740372315868},{\"date\":\"2001-04-19T00:00:00.000Z\",\"avg-sentiment\":0.15901534761640485,\"moving-avg\":0.1263122446244373},{\"date\":\"2001-04-20T00:00:00.000Z\",\"avg-sentiment\":0.12272935921726354,\"moving-avg\":0.126452291578749},{\"date\":\"2001-04-21T00:00:00.000Z\",\"avg-sentiment\":0.1875211117271748,\"moving-avg\":0.12877160327566736},{\"date\":\"2001-04-23T00:00:00.000Z\",\"avg-sentiment\":0.15367606809549741,\"moving-avg\":0.12993703570638493},{\"date\":\"2001-04-24T00:00:00.000Z\",\"avg-sentiment\":0.1538690321229483,\"moving-avg\":0.1291831804047298},{\"date\":\"2001-04-25T00:00:00.000Z\",\"avg-sentiment\":0.15553618980360107,\"moving-avg\":0.13075040372496424},{\"date\":\"2001-04-26T00:00:00.000Z\",\"avg-sentiment\":0.14359138036504174,\"moving-avg\":0.13124503414767497},{\"date\":\"2001-04-27T00:00:00.000Z\",\"avg-sentiment\":0.08330213389360086,\"moving-avg\":0.12807745455635614},{\"date\":\"2001-04-28T00:00:00.000Z\",\"avg-sentiment\":0.15471333066622414,\"moving-avg\":0.1298065844733206},{\"date\":\"2001-04-29T00:00:00.000Z\",\"avg-sentiment\":0.05394456833268383,\"moving-avg\":0.12787596899017306},{\"date\":\"2001-04-30T00:00:00.000Z\",\"avg-sentiment\":0.14120489889554302,\"moving-avg\":0.1277501286249577},{\"date\":\"2001-05-01T00:00:00.000Z\",\"avg-sentiment\":0.1305200993151308,\"moving-avg\":0.12601630548148682},{\"date\":\"2001-05-02T00:00:00.000Z\",\"avg-sentiment\":0.14008522662479925,\"moving-avg\":0.1258884314091401},{\"date\":\"2001-05-03T00:00:00.000Z\",\"avg-sentiment\":0.13897702190620645,\"moving-avg\":0.12505108172773732},{\"date\":\"2001-05-04T00:00:00.000Z\",\"avg-sentiment\":0.13591364340788198,\"moving-avg\":0.12420476709506016},{\"date\":\"2001-05-05T00:00:00.000Z\",\"avg-sentiment\":0.03115236662305313,\"moving-avg\":0.12096004444836007},{\"date\":\"2001-05-07T00:00:00.000Z\",\"avg-sentiment\":0.14199330334533486,\"moving-avg\":0.12151280549545529},{\"date\":\"2001-05-08T00:00:00.000Z\",\"avg-sentiment\":0.15751083582783348,\"moving-avg\":0.1220467995054624},{\"date\":\"2001-05-09T00:00:00.000Z\",\"avg-sentiment\":0.10167717739835566,\"moving-avg\":0.12363958813898474},{\"date\":\"2001-05-10T00:00:00.000Z\",\"avg-sentiment\":0.11597581722455598,\"moving-avg\":0.1323595361293966},{\"date\":\"2001-05-11T00:00:00.000Z\",\"avg-sentiment\":0.11943629958063982,\"moving-avg\":0.1324795682666979},{\"date\":\"2001-05-12T00:00:00.000Z\",\"avg-sentiment\":0.20078100068548954,\"moving-avg\":0.1349550340927913},{\"date\":\"2001-05-13T00:00:00.000Z\",\"avg-sentiment\":0.08779591808830671,\"moving-avg\":0.1337868019214236},{\"date\":\"2001-05-14T00:00:00.000Z\",\"avg-sentiment\":0.15397830223443684,\"moving-avg\":0.134409551000982},{\"date\":\"2001-05-15T00:00:00.000Z\",\"avg-sentiment\":0.12038186533449026,\"moving-avg\":0.13513099223308492},{\"date\":\"2001-05-16T00:00:00.000Z\",\"avg-sentiment\":0.1248738744769487,\"moving-avg\":0.1315826213648325},{\"date\":\"2001-05-17T00:00:00.000Z\",\"avg-sentiment\":0.09111111158019213,\"moving-avg\":0.13117417700173029},{\"date\":\"2001-05-18T00:00:00.000Z\",\"avg-sentiment\":0.15272176027963755,\"moving-avg\":0.13181363222349735},{\"date\":\"2001-05-20T00:00:00.000Z\",\"avg-sentiment\":-0.09866666793823242,\"moving-avg\":0.12356887766289232},{\"date\":\"2001-05-21T00:00:00.000Z\",\"avg-sentiment\":0.1660929665110175,\"moving-avg\":0.12404717810806871},{\"date\":\"2001-05-22T00:00:00.000Z\",\"avg-sentiment\":0.09714469269400057,\"moving-avg\":0.12198482294398856},{\"date\":\"2001-05-23T00:00:00.000Z\",\"avg-sentiment\":0.14167085456215897,\"moving-avg\":0.12261620612215175},{\"date\":\"2001-05-24T00:00:00.000Z\",\"avg-sentiment\":0.1612152627142354,\"moving-avg\":0.12173934448838711},{\"date\":\"2001-05-25T00:00:00.000Z\",\"avg-sentiment\":0.14365104081509072,\"moving-avg\":0.12140517691237354},{\"date\":\"2001-05-26T00:00:00.000Z\",\"avg-sentiment\":0.192303701683327,\"moving-avg\":0.12268633256438616},{\"date\":\"2001-05-28T00:00:00.000Z\",\"avg-sentiment\":0.038482294513186625,\"moving-avg\":0.11878453605470568},{\"date\":\"2001-05-29T00:00:00.000Z\",\"avg-sentiment\":0.1987612046626565,\"moving-avg\":0.12062353019795949},{\"date\":\"2001-05-30T00:00:00.000Z\",\"avg-sentiment\":0.160241482066394,\"moving-avg\":0.12318817513705259},{\"date\":\"2001-05-31T00:00:00.000Z\",\"avg-sentiment\":0.16037733316364877,\"moving-avg\":0.12337697522030007},{\"date\":\"2001-06-01T00:00:00.000Z\",\"avg-sentiment\":0.12289958385996547,\"moving-avg\":0.12567547573787613},{\"date\":\"2001-06-02T00:00:00.000Z\",\"avg-sentiment\":0.0,\"moving-avg\":0.12096864577469138},{\"date\":\"2001-06-03T00:00:00.000Z\",\"avg-sentiment\":0.1088638911023736,\"moving-avg\":0.12024677216759948},{\"date\":\"2001-06-04T00:00:00.000Z\",\"avg-sentiment\":0.1177667151081532,\"moving-avg\":0.11950282178371129},{\"date\":\"2001-06-05T00:00:00.000Z\",\"avg-sentiment\":0.16074614555178016,\"moving-avg\":0.12022845923856375},{\"date\":\"2001-06-06T00:00:00.000Z\",\"avg-sentiment\":0.10668554657727083,\"moving-avg\":0.11925418934421003},{\"date\":\"2001-06-07T00:00:00.000Z\",\"avg-sentiment\":0.10208256492280442,\"moving-avg\":0.12161852928753507},{\"date\":\"2001-06-08T00:00:00.000Z\",\"avg-sentiment\":0.16476666430632272,\"moving-avg\":0.12237764131956799},{\"date\":\"2001-06-11T00:00:00.000Z\",\"avg-sentiment\":-0.03700000047683716,\"moving-avg\":0.11589394677607896},{\"date\":\"2001-06-12T00:00:00.000Z\",\"avg-sentiment\":0.21970718253869564,\"moving-avg\":0.11982828028075697},{\"date\":\"2001-06-13T00:00:00.000Z\",\"avg-sentiment\":0.0,\"moving-avg\":0.11596241970660512},{\"date\":\"2001-06-14T00:00:00.000Z\",\"avg-sentiment\":0.0,\"moving-avg\":0.1119812097205838},{\"date\":\"2001-06-15T00:00:00.000Z\",\"avg-sentiment\":0.07224000096321107,\"moving-avg\":0.10769650972984118},{\"date\":\"2001-06-18T00:00:00.000Z\",\"avg-sentiment\":0.14867904231189938,\"moving-avg\":0.10972594720396094},{\"date\":\"2001-06-19T00:00:00.000Z\",\"avg-sentiment\":0.27711249451256464,\"moving-avg\":0.11383042027989852},{\"date\":\"2001-06-22T00:00:00.000Z\",\"avg-sentiment\":0.18745310035528112,\"moving-avg\":0.11606612811392489},{\"date\":\"2001-06-24T00:00:00.000Z\",\"avg-sentiment\":0.17196257918974056,\"moving-avg\":0.11763575160435129},{\"date\":\"2001-06-25T00:00:00.000Z\",\"avg-sentiment\":0.17262966614527003,\"moving-avg\":0.12035303675652056},{\"date\":\"2001-06-26T00:00:00.000Z\",\"avg-sentiment\":0.16614375188946723,\"moving-avg\":0.12080043647684822},{\"date\":\"2001-06-27T00:00:00.000Z\",\"avg-sentiment\":0.15508818226781756,\"moving-avg\":0.12925893148371656},{\"date\":\"2001-06-28T00:00:00.000Z\",\"avg-sentiment\":-0.021562501788139343,\"moving-avg\":0.12300374920707798},{\"date\":\"2001-07-02T00:00:00.000Z\",\"avg-sentiment\":0.3955333350847165,\"moving-avg\":0.13295003728676852},{\"date\":\"2001-07-03T00:00:00.000Z\",\"avg-sentiment\":-0.1509000062942505,\"moving-avg\":0.12319767525822153},{\"date\":\"2001-07-06T00:00:00.000Z\",\"avg-sentiment\":0.08617272973060608,\"moving-avg\":0.12069625749210054},{\"date\":\"2001-07-19T00:00:00.000Z\",\"avg-sentiment\":-0.03288888931274414,\"moving-avg\":0.11481159315450604},{\"date\":\"2001-08-14T00:00:00.000Z\",\"avg-sentiment\":0.05822500213980675,\"moving-avg\":0.11034230316972206},{\"date\":\"2001-08-16T00:00:00.000Z\",\"avg-sentiment\":-0.036244442065556846,\"moving-avg\":0.10785141195043058},{\"date\":\"2001-08-23T00:00:00.000Z\",\"avg-sentiment\":-0.1426888902982076,\"moving-avg\":0.09646974211840179},{\"date\":\"2001-08-27T00:00:00.000Z\",\"avg-sentiment\":0.09194999933242798,\"moving-avg\":0.09419335936060293},{\"date\":\"2001-08-31T00:00:00.000Z\",\"avg-sentiment\":6.936382163654706E-4,\"moving-avg\":0.0888705695290268},{\"date\":\"2001-09-07T00:00:00.000Z\",\"avg-sentiment\":0.06116281831875825,\"moving-avg\":0.08681267734431991},{\"date\":\"2001-09-10T00:00:00.000Z\",\"avg-sentiment\":0.04209333111842473,\"moving-avg\":0.08821578838160074},{\"date\":\"2001-09-17T00:00:00.000Z\",\"avg-sentiment\":0.2638150031900122,\"moving-avg\":0.0933808254511887},{\"date\":\"2001-09-18T00:00:00.000Z\",\"avg-sentiment\":0.2448516694207986,\"moving-avg\":0.09761699059494353},{\"date\":\"2001-09-19T00:00:00.000Z\",\"avg-sentiment\":0.20893157940161855,\"moving-avg\":0.09922317172327147},{\"date\":\"2001-09-21T00:00:00.000Z\",\"avg-sentiment\":0.12036823560209836,\"moving-avg\":0.09967926135743241},{\"date\":\"2001-09-26T00:00:00.000Z\",\"avg-sentiment\":0.021285005046157875,\"moving-avg\":0.0969860093615442},{\"date\":\"2001-09-28T00:00:00.000Z\",\"avg-sentiment\":0.15917142799922399,\"moving-avg\":0.0967995014846409},{\"date\":\"2001-10-09T00:00:00.000Z\",\"avg-sentiment\":0.09204444537560146,\"moving-avg\":0.10110098301305552},{\"date\":\"2001-10-11T00:00:00.000Z\",\"avg-sentiment\":-0.010473333299160004,\"moving-avg\":0.09342829915179365},{\"date\":\"2001-10-12T00:00:00.000Z\",\"avg-sentiment\":0.11010000109672546,\"moving-avg\":0.09709829918835117},{\"date\":\"2001-10-15T00:00:00.000Z\",\"avg-sentiment\":0.31667856659208027,\"moving-avg\":0.10765425140808718},{\"date\":\"2001-10-19T00:00:00.000Z\",\"avg-sentiment\":0.18201052711198204,\"moving-avg\":0.11131326894637955},{\"date\":\"2001-11-01T00:00:00.000Z\",\"avg-sentiment\":0.0661816520243883,\"moving-avg\":0.10856335593679584},{\"date\":\"2001-11-02T00:00:00.000Z\",\"avg-sentiment\":0.059303391339338346,\"moving-avg\":0.10130305249768831},{\"date\":\"2001-11-21T00:00:00.000Z\",\"avg-sentiment\":0.08864242244850505,\"moving-avg\":0.09800936323412908},{\"date\":\"2001-11-26T00:00:00.000Z\",\"avg-sentiment\":-0.013354062843017087,\"moving-avg\":0.0918321418330372},{\"date\":\"2001-11-27T00:00:00.000Z\",\"avg-sentiment\":-0.058069233710949235,\"moving-avg\":0.08414217850449654},{\"date\":\"2002-06-28T00:00:00.000Z\",\"avg-sentiment\":0.12351428610937935,\"moving-avg\":0.08272119631182696},{\"date\":\"2002-07-02T00:00:00.000Z\",\"avg-sentiment\":0.10502500087022781,\"moving-avg\":0.08105242359857395},{\"date\":\"2002-07-03T00:00:00.000Z\",\"avg-sentiment\":0.14193388803137674,\"moving-avg\":0.08650230325922449},{\"date\":\"2002-07-05T00:00:00.000Z\",\"avg-sentiment\":0.10393725421425759,\"moving-avg\":0.07678243389687586},{\"date\":\"2002-07-08T00:00:00.000Z\",\"avg-sentiment\":0.03411296230775338,\"moving-avg\":0.082949532850276},{\"date\":\"2002-07-09T00:00:00.000Z\",\"avg-sentiment\":-0.0417642838484238,\"moving-avg\":0.07868496573097498},{\"date\":\"2002-07-10T00:00:00.000Z\",\"avg-sentiment\":-7.416683559616395E-4,\"moving-avg\":0.07975653976286773},{\"date\":\"2002-07-11T00:00:00.000Z\",\"avg-sentiment\":-0.014141663908958435,\"moving-avg\":0.07734431756124223},{\"date\":\"2002-07-12T00:00:00.000Z\",\"avg-sentiment\":-0.17583124712109566,\"moving-avg\":0.07269142405939093}]},\"layer\":[{\"mark\":{\"type\":\"line\",\"stroke\":\"lightblue\"},\"encoding\":{\"x\":{\"field\":\"date\",\"type\":\"temporal\"},\"y\":{\"field\":\"avg-sentiment\"}}},{\"mark\":{\"type\":\"line\",\"stroke\":\"green\"},\"encoding\":{\"x\":{\"field\":\"date\",\"type\":\"temporal\"},\"y\":{\"field\":\"moving-avg\"}}}]};\n",
       "    vegaEmbed('#uuid-7fd6a8c3-6232-4723-b045-5deb0eb290e8', spec, {defaultStyle:true}).catch(console.warn);\n",
       "    }, function(err) {\n",
       "    console.log('Failed to load');\n",
       "  });\n",
       "  </script>\n",
       "</div>\n",
       "  "
      ]
     },
     "execution_count": 34,
     "metadata": {},
     "output_type": "execute_result"
    }
   ],
   "source": [
    "(def layered-line-plot\n",
    "    {:width 600\n",
    "     :height 600\n",
    "     :data {:values time-series-data}\n",
    "     :layer [{:mark {:type \"line\", :stroke \"lightblue\"}\n",
    "              :encoding {:x {:field \"date\", :type \"temporal\"}\n",
    "                         :y {:field \"avg-sentiment\"}}},\n",
    "             {:mark {:type \"line\", :stroke \"green\"}\n",
    "              :encoding {:x {:field \"date\", :type \"temporal\"}\n",
    "                         :y {:field \"moving-avg\"}}}]})\n",
    "\n",
    ";; Render the plot\n",
    "(oz/view! layered-line-plot)"
   ]
  },
  {
   "cell_type": "markdown",
   "metadata": {},
   "source": [
    "## Conclusions\n",
    "\n",
    "Now that we've done a basic plot of the sentiment in sent mail from Enron employees, we can reconsider our starting question: did enron email sentiment spike or bottom-out at any point. Interestingly, the answer from this initial view seems to be a big NO. At least from this zoomed-out view, there aren't any sharp peaks or troughs."
   ]
  }
 ],
 "metadata": {
  "celltoolbar": "Raw Cell Format",
  "jupytext": {
   "formats": "ipynb,clj"
  },
  "kernelspec": {
   "display_name": "Clojure (clojupyter-v0.2.2)",
   "language": "clojure",
   "name": "clojupyter"
  },
  "language_info": {
   "file_extension": ".clj",
   "mimetype": "text/x-clojure",
   "name": "clojure",
   "version": "1.10.0"
  }
 },
 "nbformat": 4,
 "nbformat_minor": 2
}
